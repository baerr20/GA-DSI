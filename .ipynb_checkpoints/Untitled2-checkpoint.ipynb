{
 "cells": [
  {
   "cell_type": "code",
   "execution_count": 1,
   "metadata": {
    "collapsed": false
   },
   "outputs": [],
   "source": [
    "import requests\n",
    "import bs4\n",
    "from bs4 import BeautifulSoup\n",
    "import pandas as pd\n"
   ]
  },
  {
   "cell_type": "code",
   "execution_count": 2,
   "metadata": {
    "collapsed": false
   },
   "outputs": [
    {
     "data": {
      "text/plain": [
       "<Response [200]>"
      ]
     },
     "execution_count": 2,
     "metadata": {},
     "output_type": "execute_result"
    }
   ],
   "source": [
    "# Request from URL\n",
    "url = 'http://coloradoski.com/skier-statistics'\n",
    "r = requests.get('http://coloradoski.com/skier-statistics')\n",
    "r"
   ]
  },
  {
   "cell_type": "code",
   "execution_count": 3,
   "metadata": {
    "collapsed": false
   },
   "outputs": [
    {
     "name": "stdout",
     "output_type": "stream",
     "text": [
      "{'X-Powered-By': 'PHP/5.3.3', 'Transfer-Encoding': 'chunked', 'Set-Cookie': 'CAKEPHP=1a3lbr20esbe3bs0dij0rbt4m1; expires=Wed, 16-Nov-2016 05:49:44 GMT; path=/, CAKEPHP=1a3lbr20esbe3bs0dij0rbt4m1; expires=Wed, 16-Nov-2016 05:49:44 GMT; path=/, CAKEPHP=1a3lbr20esbe3bs0dij0rbt4m1; expires=Wed, 16-Nov-2016 05:49:44 GMT; path=/, CAKEPHP=1a3lbr20esbe3bs0dij0rbt4m1; expires=Wed, 16-Nov-2016 05:49:44 GMT; path=/, CAKEPHP=1a3lbr20esbe3bs0dij0rbt4m1; expires=Wed, 16-Nov-2016 05:49:44 GMT; path=/, CAKEPHP=1a3lbr20esbe3bs0dij0rbt4m1; expires=Wed, 16-Nov-2016 05:49:44 GMT; path=/, CAKEPHP=1a3lbr20esbe3bs0dij0rbt4m1; expires=Wed, 16-Nov-2016 05:49:44 GMT; path=/, CAKEPHP=1a3lbr20esbe3bs0dij0rbt4m1; expires=Wed, 16-Nov-2016 05:49:44 GMT; path=/, CAKEPHP=1a3lbr20esbe3bs0dij0rbt4m1; expires=Wed, 16-Nov-2016 05:49:44 GMT; path=/, CAKEPHP=1a3lbr20esbe3bs0dij0rbt4m1; expires=Wed, 16-Nov-2016 05:49:44 GMT; path=/', 'Server': 'Apache/2.2.15 (Red Hat)', 'Connection': 'close', 'Date': 'Mon, 07 Nov 2016 21:49:44 GMT', 'P3P': 'CP=\"NOI ADM DEV PSAi COM NAV OUR OTRo STP IND DEM\"', 'Content-Type': 'text/html; charset=UTF-8'}\n",
      "<!DOCTYPE html>\n",
      "<html lang=\"en\">\n",
      "<!DOCTYPE html>\n",
      "<html lang=\"en\">\n",
      "\n",
      "<head>\n",
      "    <!-- new server -->\n",
      "    <meta http-equiv=\"Content-Type\" content=\"text/html; charset=utf-8\" />\n",
      "    <meta name=\"viewport\" content=\"width=device-width\">\n",
      "    <meta name=\"fb:page_id\" content=\"45174285702\" />\n",
      "    <meta name=\"p:domain_verify\" content=\"a5d4cb19a07453e291e8dc2a6db5e533\"/>\n",
      "    <meta name=\"description\" content=\"Everything you need to plan a Winter Vacation to Colorado Ski Resorts, including a daily snow report, resort details, lodging search tool, deals on everything from hotels to lift tickets to package deals, skiing and snowboarding photo gallery, pass programs, Colorado travel tips, and offers for international guests.\" /><meta name=\"generator\" content=\"Croogo - Content Management System\" /><meta name=\"keywords\" content=\"Colorado Ski, Colorado Skiing,Colorado Ski Resort, Colorado Ski Vacation, Snowboarding, Snow Report, Colorado Ski Report, Colorado Snow Report, Colorado Vacation, Colorado deals, Arapahoe Basin, Aspen Highlands, Aspen, Beaver Creek, Breckenridge, Buttermilk, Copper Mountain, Crested Butte, Durango, Echo Mountain, Eldora, Howelson Hill,Keystone, Loveland Ski, Monarch Mountain, Powderhorn, Silverton Mountain, Ski Cooper, Snowmass, SolVista, Steamboat, Sunlight, Telluride, Vail, Winter Park, Wolf Creek\" /><meta name=\"robots\" content=\"index, follow\" />    <title>Facts &amp; Stats | Colorado Ski Country USA</title>\n",
      "    <link href=\"http://blog.coloradoski.com/feed/\" type=\"application/rss+xml\" rel=\"alternate\" title=\"RSS 2.0\" /><link href=\"/snow-report/feed/\" type=\"application/rss+xml\" rel=\"alternate\" title=\"RSS 2.0\" />    <link href=\"/theme/colorado-v2/favicon.ico\" type=\"image/x-icon\" rel=\"icon\" /><link href=\"/theme/colorado-v2/favicon.ico\" type=\"image/x-icon\" rel=\"shortcut icon\" />    <link href='http://fonts.googleapis.com/css?family=Raleway:400,300,500,600,700,800,900' rel='stylesheet' type='text/css'>\n",
      "    <link href='https://fonts.googleapis.com/css?family=Oswald:400,300,700' rel='stylesheet' type='text/css'>\n",
      "    \n",
      "\t<link rel=\"stylesheet\" type=\"text/css\" href=\"/theme/colorado-v2/css/bootstrap.css\" />\n",
      "\t<link rel=\"stylesheet\" type=\"text/css\" href=\"/theme/colorado-v2/css/settings.css\" />\n",
      "\t<link rel=\"stylesheet\" type=\"text/css\" href=\"/theme/colorado-v2/css/owl.carousel.css\" />\n",
      "\t<link rel=\"stylesheet\" type=\"text/css\" href=\"/theme/colorado-v2/css/../js/fancybox/jquery.fancybox.css\" />\n",
      "\t<link rel=\"stylesheet\" type=\"text/css\" href=\"/theme/colorado-v2/css/../js/fancybox/helpers/jquery.fancybox-thumbs.css?v=1.0.2\" />\n",
      "\t<link rel=\"stylesheet\" type=\"text/css\" href=\"/theme/colorado-v2/css/style.css\" />\n",
      "\t<link rel=\"stylesheet\" type=\"text/css\" href=\"/theme/colorado-v2/css/red.css\" />\n",
      "\t<link rel=\"stylesheet\" type=\"text/css\" href=\"/theme/colorado-v2/css/theme.css\" />\n",
      "\t<link rel=\"stylesheet\" type=\"text/css\" href=\"/theme/colorado-v2/css/fontello.css\" />\n",
      "    \n",
      "\t<script type=\"text/javascript\" src=\"/js/jquery/jquery-1.7.1.min.js\"></script>\n",
      "<script type=\"text/javascript\" src=\"/js/croogo.js\"></script><script type=\"text/javascript\">\n",
      "//<![CDATA[\n",
      "$.extend(Croogo, {\"basePath\":\"\\/\",\"params\":{\"controller\":\"skier_statistics_rows\",\"action\":\"index\",\"named\":[]}});\n",
      "//]]>\n",
      "</script>    <link href = '/media_manager/js/colorbox/example2/colorbox.css'  rel ='stylesheet' />\n",
      "    <script src = '/plugins/colorbox/jquery.colorbox-min.js'></script>\n",
      "    <script src = '/js/jquery/jquery.validate.min.js'></script>\n",
      "    <!-- HTML5 shim and Respond.js IE8 support of HTML5 elements and media queries -->\n",
      "    <!--[if lt IE 9]>\n",
      "        \n",
      "\t<script type=\"text/javascript\" src=\"/theme/colorado-v2/js/html5shiv.js\"></script>\n",
      "        <script src=\"https://oss.maxcdn.com/libs/respond.js/1.3.0/respond.min.js\"></script>\n",
      "    <![endif]-->\n",
      "\n",
      "    <script type='text/javascript'>\n",
      "    var googletag = googletag || {};\n",
      "    googletag.cmd = googletag.cmd || [];\n",
      "    (function() {\n",
      "    var gads = document.createElement('script');\n",
      "    gads.async = true;\n",
      "    gads.type = 'text/javascript';\n",
      "    var useSSL = 'https:' == document.location.protocol;\n",
      "    gads.src = (useSSL ? 'https:' : 'http:') +\n",
      "    '//www.googletagservices.com/tag/js/gpt.js';\n",
      "    var node = document.getElementsByTagName('script')[0];\n",
      "    node.parentNode.insertBefore(gads, node);\n",
      "    })();\n",
      "</script>\n",
      "\n",
      "\n",
      "\n",
      "<script type='text/javascript'>\n",
      "    googletag.cmd.push(function() {\n",
      "    googletag.defineSlot('/10152477/Internal_ROS_left_300x250', [300, 250], 'ad-block-left').addService(googletag.pubads());\n",
      "    googletag.defineSlot('/10152477/Internal_ROS_right_300x250', [300, 250], 'ad-block-right').addService(googletag.pubads());\n",
      "    googletag.pubads().enableSingleRequest();\n",
      "    googletag.enableServices();\n",
      "    });\n",
      "</script>\n",
      "\n",
      "\n",
      "<script>\n",
      "    googletag.cmd.push(function() { googletag.display('ad-block-left'); });\n",
      "    googletag.cmd.push(function() { googletag.display('ad-block-right'); });\n",
      "</script></head>\n",
      "<body>\n",
      "\t\t<div id=\"preloader\"><div id=\"status\"><div class=\"spinner\"></div></div></div>\n",
      "<header class=\"navbar basic\">\n",
      "  <div class=\"navbar-header\">\n",
      "    <div class=\"container\">\n",
      "      <div class=\"basic-wrapper\"><a class=\"btn responsive-menu pull-right\" data-toggle=\"collapse\" data-target=\".navbar-collapse\"><i class=\"icon-menu-1\"></i></a>\n",
      "\t\t\t\t<div class=\"logo-wrapper\">\n",
      "          <a href=\"/\"><img src=\"/theme/colorado-v2/img/logo-coski.svg\" height=\"71\" width=\"120\" class=\"logo\" alt=\"\" /></a>          <span class=\"logo-caption\">A Mountain <span>For Everyone</span></span>\n",
      "        </div>\n",
      "      </div>\n",
      "      <nav class=\"collapse navbar-collapse pull-right\">\n",
      "        <ul class=\"nav navbar-nav\"><li><a href=\"/resorts\" id=\"link-18\" class=\"dropdown-toggle js-activated\">Resorts</a><ul class=\"dropdown-menu\"><li><a href=\"/resorts/arapahoe-basin\" id=\"link-23\">Arapahoe Basin</a></li><li><a href=\"/resorts/aspen-highlands\" id=\"link-24\">Aspen Highlands</a></li><li><a href=\"/resorts/aspen-mountain\" id=\"link-25\">Aspen Mountain</a></li><li><a href=\"/resorts/buttermilk\" id=\"link-26\">Buttermilk</a></li><li><a href=\"/resorts/ski-cooper\" id=\"link-37\">Cooper</a></li><li><a href=\"/resorts/copper-mountain\" id=\"link-27\">Copper Mountain</a></li><li><a href=\"/resorts/crested-butte\" id=\"link-28\">Crested Butte</a></li><li><a href=\"/resorts/eldora\" id=\"link-30\">Eldora</a></li><li><a href=\"/resorts/skigranbyranch\" id=\"link-39\">Granby Ranch</a></li><li><a href=\"/resorts/howelsen\" id=\"link-31\">Howelsen</a></li><li><a href=\"/resorts/loveland\" id=\"link-32\">Loveland</a></li><li><a href=\"/resorts/monarch\" id=\"link-33\">Monarch</a></li><li><a href=\"/resorts/powderhorn\" id=\"link-34\">Powderhorn</a></li><li><a href=\"/resorts/purgatory\" id=\"link-35\">Purgatory</a></li><li><a href=\"/resorts/silverton\" id=\"link-36\">Silverton</a></li><li><a href=\"/resorts/snowmass\" id=\"link-38\">Snowmass</a></li><li><a href=\"/resorts/steamboat\" id=\"link-40\">Steamboat</a></li><li><a href=\"/resorts/sunlight\" id=\"link-41\">Sunlight</a></li><li><a href=\"/resorts/telluride\" id=\"link-42\">Telluride</a></li><li><a href=\"/resorts/winter-park\" id=\"link-43\">Winter Park</a></li><li><a href=\"/resorts/wolf-creek\" id=\"link-44\">Wolf Creek</a></li></ul></li><li><a href=\"/passes\" id=\"link-20\" class=\"dropdown-toggle js-activated\">Passes &amp; Deals</a><ul class=\"dropdown-menu\"><li><a href=\"/passport\" id=\"link-81\">5th &amp; 6th Grade Passport</a></li><li><a href=\"/deals\" id=\"link-186\">Deals</a></li><li><a href=\"http://coloradoski.com/gems/\" id=\"link-79\">Gems Card</a></li><li><a href=\"/gold-pass\" id=\"link-82\">Gold Pass</a></li><li><a href=\"/resort-ticket-information\" id=\"link-84\">Resort Ticket Prices</a></li><li><a href=\"http://www.coloradoski.com/season-passes\" id=\"link-199\">Season Passes</a></li><li><a href=\"http://coloradoski.com/page/beginner-deals\" id=\"link-205\">Deals for Beginners</a></li><li><a href=\"http://coloradoski.com/page/ski-and-snowboard-expo\" id=\"link-203\">Ski and Snowboard Expo</a></li></ul></li><li><a href=\"/snow-report\" id=\"link-187\" class=\"dropdown-toggle js-activated\">Snow Report</a><ul class=\"dropdown-menu\"><li><a href=\"/snow-report/signup\" id=\"link-188\">eNews &amp; eSnow Sign Up</a></li></ul></li><li><a href=\"http://www.coloradoski.com/resources\" id=\"link-189\" class=\"dropdown-toggle js-activated\">Resources</a><ul class=\"dropdown-menu\"><li><a href=\"/page/why-colorado\" id=\"link-190\">Why Colorado?</a></li><li><a href=\"/page/resort-season-dates\" id=\"link-191\">Resort Season Dates</a></li><li><a href=\"https://issuu.com/cscusa/docs/2016_winter_guide_issuu\" id=\"link-196\">Winter Guide</a></li><li><a href=\"http://coloradoski.com/skier-statistics\" id=\"link-197\">Facts and Stats</a></li><li><a href=\"http://coloradoski.com/traveling\" id=\"link-200\">Traveling to Colorado</a></li><li><a href=\"http://coloradoski.com/page/new-skiers\" id=\"link-204\">Tips for New Skiers</a></li><li><a href=\"http://coloradoski.com/summer-activities\" id=\"link-201\">Summer Activities</a></li><li><a href=\"/annual-meeting\" id=\"link-194\">Annual Meeting</a></li><li><a href=\"/snow-conference\" id=\"link-195\">Snow Conference</a></li></ul></li><li><a href=\"http://blog.coloradoski.com\" id=\"link-91\">Blog</a></li><li><a href=\"http://coloradoski.com/shop\" id=\"link-192\">Shop</a></li><li><a href=\"/safety\" id=\"link-21\" class=\"dropdown-toggle js-activated\">Safety</a><ul class=\"dropdown-menu\"><li><a href=\"http://www.coloradoski.com/page/know-the-code\" id=\"link-121\">Know The Code</a></li><li><a href=\"http://www.coloradoski.com/page/smart-style\" id=\"link-123\">Smart Style</a></li><li><a href=\"http://www.coloradoski.com/page/lift-safety\" id=\"link-124\">Lift Safety</a></li><li><a href=\"http://www.coloradoski.com/page/helmet-safety\" id=\"link-125\">Helmet Safety</a></li><li><a href=\"http://www.coloradoski.com/page/high-alpine-safety\" id=\"link-126\">High Alpine Safety</a></li><li><a href=\"http://www.coloradoski.com/page/signs-of-the-slopes\" id=\"link-127\">Signs of the Slopes</a></li><li><a href=\"http://www.coloradoski.com/page/uphill-access-and-safety\" id=\"link-128\">Uphill Access and Safety</a></li><li><a href=\"http://www.coloradoski.com/mountain-basics\" id=\"link-198\">Mountain Gear</a></li></ul></li></ul>        <div id=\"block-8\" class=\"block block-search pull-right\">\n",
      "    <form id=\"searchform\" method=\"post\" action=\"javascript: document.location.href=''+Croogo.basePath+'search/q:'+encodeURI($('#searchform #q').val());\">\n",
      "    <div class=\"input text\"><input name=\"q\" type=\"text\" value=\"Search\" id=\"q\" /></div><div class=\"submit\"><input class=\"sr-only\" type=\"submit\" value=\"&nbsp;\" /></div>    </form>\n",
      "</div>      </nav>\n",
      "    </div>\n",
      "  </div>\n",
      "</header>\n",
      "\t<main class=\"container inner\">\n",
      "\t\t<div class=\"main-bg row\">\n",
      "\t\t\t\n",
      "<div class=\"col-sm-9\">\n",
      "\t<h1>Facts &amp; Stats</h1>\n",
      "\t<p>Colorado Ski Country USA is the not-for-profit trade association that represents the ski industry for the state. The Association is comprised of 21 member resorts and conducts public policy, public relations and marketing. <br/><br/>\n",
      "\n",
      "Colorado sees approximately 20 percent of US skier visits annually.\n",
      "<br/><br/>\n",
      "\n",
      "CSCUSA reports skier visits three times a year for the periods of; Opening Day through December 31, January 1 through the end of February, and the entire season.\n",
      "<br/><br/>\n",
      "\n",
      "The chart below covers a wide variety of facts and figures relating to Colorado Ski Country USA and its 21 member resorts.<br/><br/></p>\n",
      "</div>\n",
      "<div class=\"col-sm-3\">\n",
      "\t<nav class=\"secondary-menu\">\n",
      "    <ul>\n",
      "        <li><a href=\"/media/press-releases\">Press Releases</a></li>\n",
      "        <li><a href=\"/skier-statistics\">Facts &amp; Stats</a></li>\n",
      "        <li><a href=\"/media/story-ideas\">Story Ideas</a></li>\n",
      "        <li><a href=\"/media/image-galleries\">Image Galleries</a></li>\n",
      "        <li><a href=\"/contacts\">Resort Contacts</a></li>\n",
      "        <li><a href=\"/media/press-list-sign-up\">Press List Sign Up</a></li>\n",
      "    </ul>\n",
      "</nav></div>\n",
      "\n",
      "<table class=\"responsive-table skier-statistics table-striped\">\n",
      "\t<thead>\n",
      "\t\t<tr>\n",
      "\t\t\t\t\t\t<th class=\"cell resort\">\n",
      "\t\t\t\t\t<a href=\"/skier-statistics/sort:resort\">\n",
      "\t\t\t\t\t\tResort\t\t\t\t\t</a>\n",
      "\t\t\t\t</th>\n",
      "\t\t\t\t\t\t<th class=\"cell peak\">\n",
      "\t\t\t\t\t<a href=\"/skier-statistics/sort:peak\">\n",
      "\t\t\t\t\t\tPeak\t\t\t\t\t</a>\n",
      "\t\t\t\t</th>\n",
      "\t\t\t\t\t\t<th class=\"cell base\">\n",
      "\t\t\t\t\t<a href=\"/skier-statistics/sort:base\">\n",
      "\t\t\t\t\t\tBase\t\t\t\t\t</a>\n",
      "\t\t\t\t</th>\n",
      "\t\t\t\t\t\t<th class=\"cell vertical_rise\">\n",
      "\t\t\t\t\t<a href=\"/skier-statistics/sort:vertical_rise\">\n",
      "\t\t\t\t\t\tVertical Rise\t\t\t\t\t</a>\n",
      "\t\t\t\t</th>\n",
      "\t\t\t\t\t\t<th class=\"cell 10_year_snowfall_avg\">\n",
      "\t\t\t\t\t<a href=\"/skier-statistics/sort:10_year_snowfall_avg\">\n",
      "\t\t\t\t\t\t10 Year Snowfall Avg.\t\t\t\t\t</a>\n",
      "\t\t\t\t</th>\n",
      "\t\t\t\t\t\t<th class=\"cell snow_making_acres\">\n",
      "\t\t\t\t\t<a href=\"/skier-statistics/sort:snow_making_acres\">\n",
      "\t\t\t\t\t\tSnow Making Acres\t\t\t\t\t</a>\n",
      "\t\t\t\t</th>\n",
      "\t\t\t\t\t\t<th class=\"cell lifts\">\n",
      "\t\t\t\t\t<a href=\"/skier-statistics/sort:lifts\">\n",
      "\t\t\t\t\t\tLifts\t\t\t\t\t</a>\n",
      "\t\t\t\t</th>\n",
      "\t\t\t\t\t\t<th class=\"cell trails\">\n",
      "\t\t\t\t\t<a href=\"/skier-statistics/sort:trails\">\n",
      "\t\t\t\t\t\tTrails\t\t\t\t\t</a>\n",
      "\t\t\t\t</th>\n",
      "\t\t\t\t\t\t<th class=\"cell skiable_acres\">\n",
      "\t\t\t\t\t<a href=\"/skier-statistics/sort:skiable_acres\">\n",
      "\t\t\t\t\t\tSkiable Acres\t\t\t\t\t</a>\n",
      "\t\t\t\t</th>\n",
      "\t\t\t\t\t\t<th class=\"cell of_terrain_by_difficulty\">\n",
      "\t\t\t\t\t<a href=\"/skier-statistics/sort:of_terrain_by_difficulty\">\n",
      "\t\t\t\t\t\t% of terrain by difficulty\t\t\t\t\t</a>\n",
      "\t\t\t\t</th>\n",
      "\t\t\t\t\t\t<th class=\"cell bowl_skiing\">\n",
      "\t\t\t\t\t<a href=\"/skier-statistics/sort:bowl_skiing\">\n",
      "\t\t\t\t\t\tBowl Skiing\t\t\t\t\t</a>\n",
      "\t\t\t\t</th>\n",
      "\t\t\t\t\t\t<th class=\"cell cat_heli_skiing\">\n",
      "\t\t\t\t\t<a href=\"/skier-statistics/sort:cat_heli_skiing\">\n",
      "\t\t\t\t\t\tCat/Heli Skiing\t\t\t\t\t</a>\n",
      "\t\t\t\t</th>\n",
      "\t\t\t\t</tr>\n",
      "\t</thead>\n",
      "\t<tbody>\n",
      "\t\t\t<tr>\n",
      "\t\t\t\t\t\t\t\t\t\t\t<td class=\"cell resort\">\n",
      "\t\t\t\t\t\t\t\t\tArapahoe Basin\t\t\t\t</td>\n",
      "\t\t\t\t\t\t\t\t\t\t\t<td class=\"cell peak\">\n",
      "\t\t\t\t\t\t\t\t\t13,050'\t\t\t\t</td>\n",
      "\t\t\t\t\t\t\t\t\t\t\t<td class=\"cell base\">\n",
      "\t\t\t\t\t\t\t\t\t10,780'\t\t\t\t</td>\n",
      "\t\t\t\t\t\t\t\t\t\t\t<td class=\"cell vertical_rise\">\n",
      "\t\t\t\t\t\t\t\t\t2,270'\t\t\t\t</td>\n",
      "\t\t\t\t\t\t\t\t\t\t\t<td class=\"cell 10_year_snowfall_avg\">\n",
      "\t\t\t\t\t\t\t\t\t350\"\t\t\t\t</td>\n",
      "\t\t\t\t\t\t\t\t\t\t\t<td class=\"cell snow_making_acres\">\n",
      "\t\t\t\t\t\t\t\t\t125\t\t\t\t</td>\n",
      "\t\t\t\t\t\t\t\t\t\t\t<td class=\"cell lifts\">\n",
      "\t\t\t\t\t\t\t\t\t8\t\t\t\t</td>\n",
      "\t\t\t\t\t\t\t\t\t\t\t<td class=\"cell trails\">\n",
      "\t\t\t\t\t\t\t\t\t109\t\t\t\t</td>\n",
      "\t\t\t\t\t\t\t\t\t\t\t<td class=\"cell skiable_acres\">\n",
      "\t\t\t\t\t\t\t\t\t960\t\t\t\t</td>\n",
      "\t\t\t\t\t\t\t\t\t\t\t<td class=\"cell of_terrain_by_difficulty\">\n",
      "\t\t\t\t\t\t\t\t\t10/30/37/23\t\t\t\t</td>\n",
      "\t\t\t\t\t\t\t\t\t\t\t<td class=\"cell bowl_skiing\">\n",
      "\t\t\t\t\t\t\t\t\tYes\t\t\t\t</td>\n",
      "\t\t\t\t\t\t\t\t\t\t\t<td class=\"cell cat_heli_skiing\">\n",
      "\t\t\t\t\t\t\t\t\tNo\t\t\t\t</td>\n",
      "\t\t\t\t\t</tr>\n",
      "\t\t\t<tr>\n",
      "\t\t\t\t\t\t\t\t\t\t\t<td class=\"cell alt resort\">\n",
      "\t\t\t\t\t\t\t\t\tAspen Highlands\t\t\t\t</td>\n",
      "\t\t\t\t\t\t\t\t\t\t\t<td class=\"cell alt peak\">\n",
      "\t\t\t\t\t\t\t\t\t12,392'\t\t\t\t</td>\n",
      "\t\t\t\t\t\t\t\t\t\t\t<td class=\"cell alt base\">\n",
      "\t\t\t\t\t\t\t\t\t8,040'\t\t\t\t</td>\n",
      "\t\t\t\t\t\t\t\t\t\t\t<td class=\"cell alt vertical_rise\">\n",
      "\t\t\t\t\t\t\t\t\t4,352'\t\t\t\t</td>\n",
      "\t\t\t\t\t\t\t\t\t\t\t<td class=\"cell alt 10_year_snowfall_avg\">\n",
      "\t\t\t\t\t\t\t\t\t300\t\t\t\t</td>\n",
      "\t\t\t\t\t\t\t\t\t\t\t<td class=\"cell alt snow_making_acres\">\n",
      "\t\t\t\t\t\t\t\t\t121\t\t\t\t</td>\n",
      "\t\t\t\t\t\t\t\t\t\t\t<td class=\"cell alt lifts\">\n",
      "\t\t\t\t\t\t\t\t\t5\t\t\t\t</td>\n",
      "\t\t\t\t\t\t\t\t\t\t\t<td class=\"cell alt trails\">\n",
      "\t\t\t\t\t\t\t\t\t122\t\t\t\t</td>\n",
      "\t\t\t\t\t\t\t\t\t\t\t<td class=\"cell alt skiable_acres\">\n",
      "\t\t\t\t\t\t\t\t\t1,040\t\t\t\t</td>\n",
      "\t\t\t\t\t\t\t\t\t\t\t<td class=\"cell alt of_terrain_by_difficulty\">\n",
      "\t\t\t\t\t\t\t\t\t18/30/16/36\t\t\t\t</td>\n",
      "\t\t\t\t\t\t\t\t\t\t\t<td class=\"cell alt bowl_skiing\">\n",
      "\t\t\t\t\t\t\t\t\tYes\t\t\t\t</td>\n",
      "\t\t\t\t\t\t\t\t\t\t\t<td class=\"cell alt cat_heli_skiing\">\n",
      "\t\t\t\t\t\t\t\t\tYes\t\t\t\t</td>\n",
      "\t\t\t\t\t</tr>\n",
      "\t\t\t<tr>\n",
      "\t\t\t\t\t\t\t\t\t\t\t<td class=\"cell resort\">\n",
      "\t\t\t\t\t\t\t\t\tAspen Mountain\t\t\t\t</td>\n",
      "\t\t\t\t\t\t\t\t\t\t\t<td class=\"cell peak\">\n",
      "\t\t\t\t\t\t\t\t\t11,212'\t\t\t\t</td>\n",
      "\t\t\t\t\t\t\t\t\t\t\t<td class=\"cell base\">\n",
      "\t\t\t\t\t\t\t\t\t7,945'\t\t\t\t</td>\n",
      "\t\t\t\t\t\t\t\t\t\t\t<td class=\"cell vertical_rise\">\n",
      "\t\t\t\t\t\t\t\t\t3,267'\t\t\t\t</td>\n",
      "\t\t\t\t\t\t\t\t\t\t\t<td class=\"cell 10_year_snowfall_avg\">\n",
      "\t\t\t\t\t\t\t\t\t300\t\t\t\t</td>\n",
      "\t\t\t\t\t\t\t\t\t\t\t<td class=\"cell snow_making_acres\">\n",
      "\t\t\t\t\t\t\t\t\t210\t\t\t\t</td>\n",
      "\t\t\t\t\t\t\t\t\t\t\t<td class=\"cell lifts\">\n",
      "\t\t\t\t\t\t\t\t\t8\t\t\t\t</td>\n",
      "\t\t\t\t\t\t\t\t\t\t\t<td class=\"cell trails\">\n",
      "\t\t\t\t\t\t\t\t\t76\t\t\t\t</td>\n",
      "\t\t\t\t\t\t\t\t\t\t\t<td class=\"cell skiable_acres\">\n",
      "\t\t\t\t\t\t\t\t\t675\t\t\t\t</td>\n",
      "\t\t\t\t\t\t\t\t\t\t\t<td class=\"cell of_terrain_by_difficulty\">\n",
      "\t\t\t\t\t\t\t\t\t0/48/26/26\t\t\t\t</td>\n",
      "\t\t\t\t\t\t\t\t\t\t\t<td class=\"cell bowl_skiing\">\n",
      "\t\t\t\t\t\t\t\t\tYes\t\t\t\t</td>\n",
      "\t\t\t\t\t\t\t\t\t\t\t<td class=\"cell cat_heli_skiing\">\n",
      "\t\t\t\t\t\t\t\t\tYes\t\t\t\t</td>\n",
      "\t\t\t\t\t</tr>\n",
      "\t\t\t<tr>\n",
      "\t\t\t\t\t\t\t\t\t\t\t<td class=\"cell alt resort\">\n",
      "\t\t\t\t\t\t\t\t\tButtermilk\t\t\t\t</td>\n",
      "\t\t\t\t\t\t\t\t\t\t\t<td class=\"cell alt peak\">\n",
      "\t\t\t\t\t\t\t\t\t9,900'\t\t\t\t</td>\n",
      "\t\t\t\t\t\t\t\t\t\t\t<td class=\"cell alt base\">\n",
      "\t\t\t\t\t\t\t\t\t7,870'\t\t\t\t</td>\n",
      "\t\t\t\t\t\t\t\t\t\t\t<td class=\"cell alt vertical_rise\">\n",
      "\t\t\t\t\t\t\t\t\t2,030'\t\t\t\t</td>\n",
      "\t\t\t\t\t\t\t\t\t\t\t<td class=\"cell alt 10_year_snowfall_avg\">\n",
      "\t\t\t\t\t\t\t\t\t200\t\t\t\t</td>\n",
      "\t\t\t\t\t\t\t\t\t\t\t<td class=\"cell alt snow_making_acres\">\n",
      "\t\t\t\t\t\t\t\t\t108\t\t\t\t</td>\n",
      "\t\t\t\t\t\t\t\t\t\t\t<td class=\"cell alt lifts\">\n",
      "\t\t\t\t\t\t\t\t\t8\t\t\t\t</td>\n",
      "\t\t\t\t\t\t\t\t\t\t\t<td class=\"cell alt trails\">\n",
      "\t\t\t\t\t\t\t\t\t44\t\t\t\t</td>\n",
      "\t\t\t\t\t\t\t\t\t\t\t<td class=\"cell alt skiable_acres\">\n",
      "\t\t\t\t\t\t\t\t\t470\t\t\t\t</td>\n",
      "\t\t\t\t\t\t\t\t\t\t\t<td class=\"cell alt of_terrain_by_difficulty\">\n",
      "\t\t\t\t\t\t\t\t\t35/39/21/5\t\t\t\t</td>\n",
      "\t\t\t\t\t\t\t\t\t\t\t<td class=\"cell alt bowl_skiing\">\n",
      "\t\t\t\t\t\t\t\t\tNo\t\t\t\t</td>\n",
      "\t\t\t\t\t\t\t\t\t\t\t<td class=\"cell alt cat_heli_skiing\">\n",
      "\t\t\t\t\t\t\t\t\tNo\t\t\t\t</td>\n",
      "\t\t\t\t\t</tr>\n",
      "\t\t\t<tr>\n",
      "\t\t\t\t\t\t\t\t\t\t\t<td class=\"cell resort\">\n",
      "\t\t\t\t\t\t\t\t\tCopper Mountain\t\t\t\t</td>\n",
      "\t\t\t\t\t\t\t\t\t\t\t<td class=\"cell peak\">\n",
      "\t\t\t\t\t\t\t\t\t12,313'\t\t\t\t</td>\n",
      "\t\t\t\t\t\t\t\t\t\t\t<td class=\"cell base\">\n",
      "\t\t\t\t\t\t\t\t\t9,703'\t\t\t\t</td>\n",
      "\t\t\t\t\t\t\t\t\t\t\t<td class=\"cell vertical_rise\">\n",
      "\t\t\t\t\t\t\t\t\t2,601'\t\t\t\t</td>\n",
      "\t\t\t\t\t\t\t\t\t\t\t<td class=\"cell 10_year_snowfall_avg\">\n",
      "\t\t\t\t\t\t\t\t\t304\t\t\t\t</td>\n",
      "\t\t\t\t\t\t\t\t\t\t\t<td class=\"cell snow_making_acres\">\n",
      "\t\t\t\t\t\t\t\t\t364\t\t\t\t</td>\n",
      "\t\t\t\t\t\t\t\t\t\t\t<td class=\"cell lifts\">\n",
      "\t\t\t\t\t\t\t\t\t23\t\t\t\t</td>\n",
      "\t\t\t\t\t\t\t\t\t\t\t<td class=\"cell trails\">\n",
      "\t\t\t\t\t\t\t\t\t140\t\t\t\t</td>\n",
      "\t\t\t\t\t\t\t\t\t\t\t<td class=\"cell skiable_acres\">\n",
      "\t\t\t\t\t\t\t\t\t2,465\t\t\t\t</td>\n",
      "\t\t\t\t\t\t\t\t\t\t\t<td class=\"cell of_terrain_by_difficulty\">\n",
      "\t\t\t\t\t\t\t\t\t21/25/36/18\t\t\t\t</td>\n",
      "\t\t\t\t\t\t\t\t\t\t\t<td class=\"cell bowl_skiing\">\n",
      "\t\t\t\t\t\t\t\t\tYes\t\t\t\t</td>\n",
      "\t\t\t\t\t\t\t\t\t\t\t<td class=\"cell cat_heli_skiing\">\n",
      "\t\t\t\t\t\t\t\t\tYes\t\t\t\t</td>\n",
      "\t\t\t\t\t</tr>\n",
      "\t\t\t<tr>\n",
      "\t\t\t\t\t\t\t\t\t\t\t<td class=\"cell alt resort\">\n",
      "\t\t\t\t\t\t\t\t\tCrested Butte\t\t\t\t</td>\n",
      "\t\t\t\t\t\t\t\t\t\t\t<td class=\"cell alt peak\">\n",
      "\t\t\t\t\t\t\t\t\t12,437'\t\t\t\t</td>\n",
      "\t\t\t\t\t\t\t\t\t\t\t<td class=\"cell alt base\">\n",
      "\t\t\t\t\t\t\t\t\t9,375'\t\t\t\t</td>\n",
      "\t\t\t\t\t\t\t\t\t\t\t<td class=\"cell alt vertical_rise\">\n",
      "\t\t\t\t\t\t\t\t\t3,062'\t\t\t\t</td>\n",
      "\t\t\t\t\t\t\t\t\t\t\t<td class=\"cell alt 10_year_snowfall_avg\">\n",
      "\t\t\t\t\t\t\t\t\t300\t\t\t\t</td>\n",
      "\t\t\t\t\t\t\t\t\t\t\t<td class=\"cell alt snow_making_acres\">\n",
      "\t\t\t\t\t\t\t\t\t297\t\t\t\t</td>\n",
      "\t\t\t\t\t\t\t\t\t\t\t<td class=\"cell alt lifts\">\n",
      "\t\t\t\t\t\t\t\t\t15\t\t\t\t</td>\n",
      "\t\t\t\t\t\t\t\t\t\t\t<td class=\"cell alt trails\">\n",
      "\t\t\t\t\t\t\t\t\t121\t\t\t\t</td>\n",
      "\t\t\t\t\t\t\t\t\t\t\t<td class=\"cell alt skiable_acres\">\n",
      "\t\t\t\t\t\t\t\t\t1,547\t\t\t\t</td>\n",
      "\t\t\t\t\t\t\t\t\t\t\t<td class=\"cell alt of_terrain_by_difficulty\">\n",
      "\t\t\t\t\t\t\t\t\t21/57/16\t\t\t\t</td>\n",
      "\t\t\t\t\t\t\t\t\t\t\t<td class=\"cell alt bowl_skiing\">\n",
      "\t\t\t\t\t\t\t\t\tYes\t\t\t\t</td>\n",
      "\t\t\t\t\t\t\t\t\t\t\t<td class=\"cell alt cat_heli_skiing\">\n",
      "\t\t\t\t\t\t\t\t\tYes\t\t\t\t</td>\n",
      "\t\t\t\t\t</tr>\n",
      "\t\t\t<tr>\n",
      "\t\t\t\t\t\t\t\t\t\t\t<td class=\"cell resort\">\n",
      "\t\t\t\t\t\t\t\t\tEldora\t\t\t\t</td>\n",
      "\t\t\t\t\t\t\t\t\t\t\t<td class=\"cell peak\">\n",
      "\t\t\t\t\t\t\t\t\t10,800'\t\t\t\t</td>\n",
      "\t\t\t\t\t\t\t\t\t\t\t<td class=\"cell base\">\n",
      "\t\t\t\t\t\t\t\t\t9,200'\t\t\t\t</td>\n",
      "\t\t\t\t\t\t\t\t\t\t\t<td class=\"cell vertical_rise\">\n",
      "\t\t\t\t\t\t\t\t\t1,600'\t\t\t\t</td>\n",
      "\t\t\t\t\t\t\t\t\t\t\t<td class=\"cell 10_year_snowfall_avg\">\n",
      "\t\t\t\t\t\t\t\t\t300\t\t\t\t</td>\n",
      "\t\t\t\t\t\t\t\t\t\t\t<td class=\"cell snow_making_acres\">\n",
      "\t\t\t\t\t\t\t\t\t612\t\t\t\t</td>\n",
      "\t\t\t\t\t\t\t\t\t\t\t<td class=\"cell lifts\">\n",
      "\t\t\t\t\t\t\t\t\t11\t\t\t\t</td>\n",
      "\t\t\t\t\t\t\t\t\t\t\t<td class=\"cell trails\">\n",
      "\t\t\t\t\t\t\t\t\t53\t\t\t\t</td>\n",
      "\t\t\t\t\t\t\t\t\t\t\t<td class=\"cell skiable_acres\">\n",
      "\t\t\t\t\t\t\t\t\t680\t\t\t\t</td>\n",
      "\t\t\t\t\t\t\t\t\t\t\t<td class=\"cell of_terrain_by_difficulty\">\n",
      "\t\t\t\t\t\t\t\t\t20/50/15/15\t\t\t\t</td>\n",
      "\t\t\t\t\t\t\t\t\t\t\t<td class=\"cell bowl_skiing\">\n",
      "\t\t\t\t\t\t\t\t\tYes\t\t\t\t</td>\n",
      "\t\t\t\t\t\t\t\t\t\t\t<td class=\"cell cat_heli_skiing\">\n",
      "\t\t\t\t\t\t\t\t\tNo\t\t\t\t</td>\n",
      "\t\t\t\t\t</tr>\n",
      "\t\t\t<tr>\n",
      "\t\t\t\t\t\t\t\t\t\t\t<td class=\"cell alt resort\">\n",
      "\t\t\t\t\t\t\t\t\tHowelsen\t\t\t\t</td>\n",
      "\t\t\t\t\t\t\t\t\t\t\t<td class=\"cell alt peak\">\n",
      "\t\t\t\t\t\t\t\t\t7,136'\t\t\t\t</td>\n",
      "\t\t\t\t\t\t\t\t\t\t\t<td class=\"cell alt base\">\n",
      "\t\t\t\t\t\t\t\t\t6,696'\t\t\t\t</td>\n",
      "\t\t\t\t\t\t\t\t\t\t\t<td class=\"cell alt vertical_rise\">\n",
      "\t\t\t\t\t\t\t\t\t440'\t\t\t\t</td>\n",
      "\t\t\t\t\t\t\t\t\t\t\t<td class=\"cell alt 10_year_snowfall_avg\">\n",
      "\t\t\t\t\t\t\t\t\t150\t\t\t\t</td>\n",
      "\t\t\t\t\t\t\t\t\t\t\t<td class=\"cell alt snow_making_acres\">\n",
      "\t\t\t\t\t\t\t\t\t50\t\t\t\t</td>\n",
      "\t\t\t\t\t\t\t\t\t\t\t<td class=\"cell alt lifts\">\n",
      "\t\t\t\t\t\t\t\t\t4\t\t\t\t</td>\n",
      "\t\t\t\t\t\t\t\t\t\t\t<td class=\"cell alt trails\">\n",
      "\t\t\t\t\t\t\t\t\t17\t\t\t\t</td>\n",
      "\t\t\t\t\t\t\t\t\t\t\t<td class=\"cell alt skiable_acres\">\n",
      "\t\t\t\t\t\t\t\t\t50\t\t\t\t</td>\n",
      "\t\t\t\t\t\t\t\t\t\t\t<td class=\"cell alt of_terrain_by_difficulty\">\n",
      "\t\t\t\t\t\t\t\t\t25/20/55/0\t\t\t\t</td>\n",
      "\t\t\t\t\t\t\t\t\t\t\t<td class=\"cell alt bowl_skiing\">\n",
      "\t\t\t\t\t\t\t\t\tNo\t\t\t\t</td>\n",
      "\t\t\t\t\t\t\t\t\t\t\t<td class=\"cell alt cat_heli_skiing\">\n",
      "\t\t\t\t\t\t\t\t\tNo\t\t\t\t</td>\n",
      "\t\t\t\t\t</tr>\n",
      "\t\t\t<tr>\n",
      "\t\t\t\t\t\t\t\t\t\t\t<td class=\"cell resort\">\n",
      "\t\t\t\t\t\t\t\t\tLoveland\t\t\t\t</td>\n",
      "\t\t\t\t\t\t\t\t\t\t\t<td class=\"cell peak\">\n",
      "\t\t\t\t\t\t\t\t\t13,010'\t\t\t\t</td>\n",
      "\t\t\t\t\t\t\t\t\t\t\t<td class=\"cell base\">\n",
      "\t\t\t\t\t\t\t\t\t10,800'\t\t\t\t</td>\n",
      "\t\t\t\t\t\t\t\t\t\t\t<td class=\"cell vertical_rise\">\n",
      "\t\t\t\t\t\t\t\t\t2,210'\t\t\t\t</td>\n",
      "\t\t\t\t\t\t\t\t\t\t\t<td class=\"cell 10_year_snowfall_avg\">\n",
      "\t\t\t\t\t\t\t\t\t422\t\t\t\t</td>\n",
      "\t\t\t\t\t\t\t\t\t\t\t<td class=\"cell snow_making_acres\">\n",
      "\t\t\t\t\t\t\t\t\t240\t\t\t\t</td>\n",
      "\t\t\t\t\t\t\t\t\t\t\t<td class=\"cell lifts\">\n",
      "\t\t\t\t\t\t\t\t\t10\t\t\t\t</td>\n",
      "\t\t\t\t\t\t\t\t\t\t\t<td class=\"cell trails\">\n",
      "\t\t\t\t\t\t\t\t\t93\t\t\t\t</td>\n",
      "\t\t\t\t\t\t\t\t\t\t\t<td class=\"cell skiable_acres\">\n",
      "\t\t\t\t\t\t\t\t\t1,800\t\t\t\t</td>\n",
      "\t\t\t\t\t\t\t\t\t\t\t<td class=\"cell of_terrain_by_difficulty\">\n",
      "\t\t\t\t\t\t\t\t\t13/41/22/24\t\t\t\t</td>\n",
      "\t\t\t\t\t\t\t\t\t\t\t<td class=\"cell bowl_skiing\">\n",
      "\t\t\t\t\t\t\t\t\tYes\t\t\t\t</td>\n",
      "\t\t\t\t\t\t\t\t\t\t\t<td class=\"cell cat_heli_skiing\">\n",
      "\t\t\t\t\t\t\t\t\tYes\t\t\t\t</td>\n",
      "\t\t\t\t\t</tr>\n",
      "\t\t\t<tr>\n",
      "\t\t\t\t\t\t\t\t\t\t\t<td class=\"cell alt resort\">\n",
      "\t\t\t\t\t\t\t\t\tMonarch\t\t\t\t</td>\n",
      "\t\t\t\t\t\t\t\t\t\t\t<td class=\"cell alt peak\">\n",
      "\t\t\t\t\t\t\t\t\t11,952'\t\t\t\t</td>\n",
      "\t\t\t\t\t\t\t\t\t\t\t<td class=\"cell alt base\">\n",
      "\t\t\t\t\t\t\t\t\t10,790'\t\t\t\t</td>\n",
      "\t\t\t\t\t\t\t\t\t\t\t<td class=\"cell alt vertical_rise\">\n",
      "\t\t\t\t\t\t\t\t\t1,162'\t\t\t\t</td>\n",
      "\t\t\t\t\t\t\t\t\t\t\t<td class=\"cell alt 10_year_snowfall_avg\">\n",
      "\t\t\t\t\t\t\t\t\t350\t\t\t\t</td>\n",
      "\t\t\t\t\t\t\t\t\t\t\t<td class=\"cell alt snow_making_acres\">\n",
      "\t\t\t\t\t\t\t\t\t0\t\t\t\t</td>\n",
      "\t\t\t\t\t\t\t\t\t\t\t<td class=\"cell alt lifts\">\n",
      "\t\t\t\t\t\t\t\t\t8\t\t\t\t</td>\n",
      "\t\t\t\t\t\t\t\t\t\t\t<td class=\"cell alt trails\">\n",
      "\t\t\t\t\t\t\t\t\t54\t\t\t\t</td>\n",
      "\t\t\t\t\t\t\t\t\t\t\t<td class=\"cell alt skiable_acres\">\n",
      "\t\t\t\t\t\t\t\t\t800\t\t\t\t</td>\n",
      "\t\t\t\t\t\t\t\t\t\t\t<td class=\"cell alt of_terrain_by_difficulty\">\n",
      "\t\t\t\t\t\t\t\t\t26/31/43\t\t\t\t</td>\n",
      "\t\t\t\t\t\t\t\t\t\t\t<td class=\"cell alt bowl_skiing\">\n",
      "\t\t\t\t\t\t\t\t\tYes\t\t\t\t</td>\n",
      "\t\t\t\t\t\t\t\t\t\t\t<td class=\"cell alt cat_heli_skiing\">\n",
      "\t\t\t\t\t\t\t\t\tYes\t\t\t\t</td>\n",
      "\t\t\t\t\t</tr>\n",
      "\t\t\t<tr>\n",
      "\t\t\t\t\t\t\t\t\t\t\t<td class=\"cell resort\">\n",
      "\t\t\t\t\t\t\t\t\tPowderhorn\t\t\t\t</td>\n",
      "\t\t\t\t\t\t\t\t\t\t\t<td class=\"cell peak\">\n",
      "\t\t\t\t\t\t\t\t\t9,850'\t\t\t\t</td>\n",
      "\t\t\t\t\t\t\t\t\t\t\t<td class=\"cell base\">\n",
      "\t\t\t\t\t\t\t\t\t8,200'\t\t\t\t</td>\n",
      "\t\t\t\t\t\t\t\t\t\t\t<td class=\"cell vertical_rise\">\n",
      "\t\t\t\t\t\t\t\t\t1,650'\t\t\t\t</td>\n",
      "\t\t\t\t\t\t\t\t\t\t\t<td class=\"cell 10_year_snowfall_avg\">\n",
      "\t\t\t\t\t\t\t\t\t250\t\t\t\t</td>\n",
      "\t\t\t\t\t\t\t\t\t\t\t<td class=\"cell snow_making_acres\">\n",
      "\t\t\t\t\t\t\t\t\t21\t\t\t\t</td>\n",
      "\t\t\t\t\t\t\t\t\t\t\t<td class=\"cell lifts\">\n",
      "\t\t\t\t\t\t\t\t\t5\t\t\t\t</td>\n",
      "\t\t\t\t\t\t\t\t\t\t\t<td class=\"cell trails\">\n",
      "\t\t\t\t\t\t\t\t\t63\t\t\t\t</td>\n",
      "\t\t\t\t\t\t\t\t\t\t\t<td class=\"cell skiable_acres\">\n",
      "\t\t\t\t\t\t\t\t\t1,600\t\t\t\t</td>\n",
      "\t\t\t\t\t\t\t\t\t\t\t<td class=\"cell of_terrain_by_difficulty\">\n",
      "\t\t\t\t\t\t\t\t\t20/50/30\t\t\t\t</td>\n",
      "\t\t\t\t\t\t\t\t\t\t\t<td class=\"cell bowl_skiing\">\n",
      "\t\t\t\t\t\t\t\t\tNo\t\t\t\t</td>\n",
      "\t\t\t\t\t\t\t\t\t\t\t<td class=\"cell cat_heli_skiing\">\n",
      "\t\t\t\t\t\t\t\t\tNo\t\t\t\t</td>\n",
      "\t\t\t\t\t</tr>\n",
      "\t\t\t<tr>\n",
      "\t\t\t\t\t\t\t\t\t\t\t<td class=\"cell alt resort\">\n",
      "\t\t\t\t\t\t\t\t\tPurgatory at DMR\t\t\t\t</td>\n",
      "\t\t\t\t\t\t\t\t\t\t\t<td class=\"cell alt peak\">\n",
      "\t\t\t\t\t\t\t\t\t10,822'\t\t\t\t</td>\n",
      "\t\t\t\t\t\t\t\t\t\t\t<td class=\"cell alt base\">\n",
      "\t\t\t\t\t\t\t\t\t8,793'\t\t\t\t</td>\n",
      "\t\t\t\t\t\t\t\t\t\t\t<td class=\"cell alt vertical_rise\">\n",
      "\t\t\t\t\t\t\t\t\t2,029'\t\t\t\t</td>\n",
      "\t\t\t\t\t\t\t\t\t\t\t<td class=\"cell alt 10_year_snowfall_avg\">\n",
      "\t\t\t\t\t\t\t\t\t260\t\t\t\t</td>\n",
      "\t\t\t\t\t\t\t\t\t\t\t<td class=\"cell alt snow_making_acres\">\n",
      "\t\t\t\t\t\t\t\t\t250\t\t\t\t</td>\n",
      "\t\t\t\t\t\t\t\t\t\t\t<td class=\"cell alt lifts\">\n",
      "\t\t\t\t\t\t\t\t\t11\t\t\t\t</td>\n",
      "\t\t\t\t\t\t\t\t\t\t\t<td class=\"cell alt trails\">\n",
      "\t\t\t\t\t\t\t\t\t92\t\t\t\t</td>\n",
      "\t\t\t\t\t\t\t\t\t\t\t<td class=\"cell alt skiable_acres\">\n",
      "\t\t\t\t\t\t\t\t\t1,525\t\t\t\t</td>\n",
      "\t\t\t\t\t\t\t\t\t\t\t<td class=\"cell alt of_terrain_by_difficulty\">\n",
      "\t\t\t\t\t\t\t\t\t20/45/35\t\t\t\t</td>\n",
      "\t\t\t\t\t\t\t\t\t\t\t<td class=\"cell alt bowl_skiing\">\n",
      "\t\t\t\t\t\t\t\t\tNo\t\t\t\t</td>\n",
      "\t\t\t\t\t\t\t\t\t\t\t<td class=\"cell alt cat_heli_skiing\">\n",
      "\t\t\t\t\t\t\t\t\tYes\t\t\t\t</td>\n",
      "\t\t\t\t\t</tr>\n",
      "\t\t\t<tr>\n",
      "\t\t\t\t\t\t\t\t\t\t\t<td class=\"cell resort\">\n",
      "\t\t\t\t\t\t\t\t\tSilverton\t\t\t\t</td>\n",
      "\t\t\t\t\t\t\t\t\t\t\t<td class=\"cell peak\">\n",
      "\t\t\t\t\t\t\t\t\t13,487'\t\t\t\t</td>\n",
      "\t\t\t\t\t\t\t\t\t\t\t<td class=\"cell base\">\n",
      "\t\t\t\t\t\t\t\t\t10,400'\t\t\t\t</td>\n",
      "\t\t\t\t\t\t\t\t\t\t\t<td class=\"cell vertical_rise\">\n",
      "\t\t\t\t\t\t\t\t\t3,087'\t\t\t\t</td>\n",
      "\t\t\t\t\t\t\t\t\t\t\t<td class=\"cell 10_year_snowfall_avg\">\n",
      "\t\t\t\t\t\t\t\t\t400\t\t\t\t</td>\n",
      "\t\t\t\t\t\t\t\t\t\t\t<td class=\"cell snow_making_acres\">\n",
      "\t\t\t\t\t\t\t\t\t0\t\t\t\t</td>\n",
      "\t\t\t\t\t\t\t\t\t\t\t<td class=\"cell lifts\">\n",
      "\t\t\t\t\t\t\t\t\t1\t\t\t\t</td>\n",
      "\t\t\t\t\t\t\t\t\t\t\t<td class=\"cell trails\">\n",
      "\t\t\t\t\t\t\t\t\t69\t\t\t\t</td>\n",
      "\t\t\t\t\t\t\t\t\t\t\t<td class=\"cell skiable_acres\">\n",
      "\t\t\t\t\t\t\t\t\t1,819\t\t\t\t</td>\n",
      "\t\t\t\t\t\t\t\t\t\t\t<td class=\"cell of_terrain_by_difficulty\">\n",
      "\t\t\t\t\t\t\t\t\t0/0/0/100\t\t\t\t</td>\n",
      "\t\t\t\t\t\t\t\t\t\t\t<td class=\"cell bowl_skiing\">\n",
      "\t\t\t\t\t\t\t\t\tYes\t\t\t\t</td>\n",
      "\t\t\t\t\t\t\t\t\t\t\t<td class=\"cell cat_heli_skiing\">\n",
      "\t\t\t\t\t\t\t\t\tYes\t\t\t\t</td>\n",
      "\t\t\t\t\t</tr>\n",
      "\t\t\t<tr>\n",
      "\t\t\t\t\t\t\t\t\t\t\t<td class=\"cell alt resort\">\n",
      "\t\t\t\t\t\t\t\t\tCooper\t\t\t\t</td>\n",
      "\t\t\t\t\t\t\t\t\t\t\t<td class=\"cell alt peak\">\n",
      "\t\t\t\t\t\t\t\t\t11,700'\t\t\t\t</td>\n",
      "\t\t\t\t\t\t\t\t\t\t\t<td class=\"cell alt base\">\n",
      "\t\t\t\t\t\t\t\t\t10,500'\t\t\t\t</td>\n",
      "\t\t\t\t\t\t\t\t\t\t\t<td class=\"cell alt vertical_rise\">\n",
      "\t\t\t\t\t\t\t\t\t1,200'\t\t\t\t</td>\n",
      "\t\t\t\t\t\t\t\t\t\t\t<td class=\"cell alt 10_year_snowfall_avg\">\n",
      "\t\t\t\t\t\t\t\t\t250\t\t\t\t</td>\n",
      "\t\t\t\t\t\t\t\t\t\t\t<td class=\"cell alt snow_making_acres\">\n",
      "\t\t\t\t\t\t\t\t\t0\t\t\t\t</td>\n",
      "\t\t\t\t\t\t\t\t\t\t\t<td class=\"cell alt lifts\">\n",
      "\t\t\t\t\t\t\t\t\t4\t\t\t\t</td>\n",
      "\t\t\t\t\t\t\t\t\t\t\t<td class=\"cell alt trails\">\n",
      "\t\t\t\t\t\t\t\t\t26\t\t\t\t</td>\n",
      "\t\t\t\t\t\t\t\t\t\t\t<td class=\"cell alt skiable_acres\">\n",
      "\t\t\t\t\t\t\t\t\t400\t\t\t\t</td>\n",
      "\t\t\t\t\t\t\t\t\t\t\t<td class=\"cell alt of_terrain_by_difficulty\">\n",
      "\t\t\t\t\t\t\t\t\t30/40/30\t\t\t\t</td>\n",
      "\t\t\t\t\t\t\t\t\t\t\t<td class=\"cell alt bowl_skiing\">\n",
      "\t\t\t\t\t\t\t\t\tYes\t\t\t\t</td>\n",
      "\t\t\t\t\t\t\t\t\t\t\t<td class=\"cell alt cat_heli_skiing\">\n",
      "\t\t\t\t\t\t\t\t\tYes\t\t\t\t</td>\n",
      "\t\t\t\t\t</tr>\n",
      "\t\t\t<tr>\n",
      "\t\t\t\t\t\t\t\t\t\t\t<td class=\"cell resort\">\n",
      "\t\t\t\t\t\t\t\t\tSnowmass\t\t\t\t</td>\n",
      "\t\t\t\t\t\t\t\t\t\t\t<td class=\"cell peak\">\n",
      "\t\t\t\t\t\t\t\t\t12,510'\t\t\t\t</td>\n",
      "\t\t\t\t\t\t\t\t\t\t\t<td class=\"cell base\">\n",
      "\t\t\t\t\t\t\t\t\t8,104'\t\t\t\t</td>\n",
      "\t\t\t\t\t\t\t\t\t\t\t<td class=\"cell vertical_rise\">\n",
      "\t\t\t\t\t\t\t\t\t4,406'\t\t\t\t</td>\n",
      "\t\t\t\t\t\t\t\t\t\t\t<td class=\"cell 10_year_snowfall_avg\">\n",
      "\t\t\t\t\t\t\t\t\t300\t\t\t\t</td>\n",
      "\t\t\t\t\t\t\t\t\t\t\t<td class=\"cell snow_making_acres\">\n",
      "\t\t\t\t\t\t\t\t\t256\t\t\t\t</td>\n",
      "\t\t\t\t\t\t\t\t\t\t\t<td class=\"cell lifts\">\n",
      "\t\t\t\t\t\t\t\t\t20\t\t\t\t</td>\n",
      "\t\t\t\t\t\t\t\t\t\t\t<td class=\"cell trails\">\n",
      "\t\t\t\t\t\t\t\t\t94\t\t\t\t</td>\n",
      "\t\t\t\t\t\t\t\t\t\t\t<td class=\"cell skiable_acres\">\n",
      "\t\t\t\t\t\t\t\t\t3,332\t\t\t\t</td>\n",
      "\t\t\t\t\t\t\t\t\t\t\t<td class=\"cell of_terrain_by_difficulty\">\n",
      "\t\t\t\t\t\t\t\t\t5/48/17/30\t\t\t\t</td>\n",
      "\t\t\t\t\t\t\t\t\t\t\t<td class=\"cell bowl_skiing\">\n",
      "\t\t\t\t\t\t\t\t\tYes\t\t\t\t</td>\n",
      "\t\t\t\t\t\t\t\t\t\t\t<td class=\"cell cat_heli_skiing\">\n",
      "\t\t\t\t\t\t\t\t\tNo\t\t\t\t</td>\n",
      "\t\t\t\t\t</tr>\n",
      "\t\t\t<tr>\n",
      "\t\t\t\t\t\t\t\t\t\t\t<td class=\"cell alt resort\">\n",
      "\t\t\t\t\t\t\t\t\tGranby Ranch\t\t\t\t</td>\n",
      "\t\t\t\t\t\t\t\t\t\t\t<td class=\"cell alt peak\">\n",
      "\t\t\t\t\t\t\t\t\t9,202'\t\t\t\t</td>\n",
      "\t\t\t\t\t\t\t\t\t\t\t<td class=\"cell alt base\">\n",
      "\t\t\t\t\t\t\t\t\t8,202'\t\t\t\t</td>\n",
      "\t\t\t\t\t\t\t\t\t\t\t<td class=\"cell alt vertical_rise\">\n",
      "\t\t\t\t\t\t\t\t\t1,000'\t\t\t\t</td>\n",
      "\t\t\t\t\t\t\t\t\t\t\t<td class=\"cell alt 10_year_snowfall_avg\">\n",
      "\t\t\t\t\t\t\t\t\t220\t\t\t\t</td>\n",
      "\t\t\t\t\t\t\t\t\t\t\t<td class=\"cell alt snow_making_acres\">\n",
      "\t\t\t\t\t\t\t\t\t245\t\t\t\t</td>\n",
      "\t\t\t\t\t\t\t\t\t\t\t<td class=\"cell alt lifts\">\n",
      "\t\t\t\t\t\t\t\t\t6\t\t\t\t</td>\n",
      "\t\t\t\t\t\t\t\t\t\t\t<td class=\"cell alt trails\">\n",
      "\t\t\t\t\t\t\t\t\t38\t\t\t\t</td>\n",
      "\t\t\t\t\t\t\t\t\t\t\t<td class=\"cell alt skiable_acres\">\n",
      "\t\t\t\t\t\t\t\t\t406\t\t\t\t</td>\n",
      "\t\t\t\t\t\t\t\t\t\t\t<td class=\"cell alt of_terrain_by_difficulty\">\n",
      "\t\t\t\t\t\t\t\t\t34/34/32\t\t\t\t</td>\n",
      "\t\t\t\t\t\t\t\t\t\t\t<td class=\"cell alt bowl_skiing\">\n",
      "\t\t\t\t\t\t\t\t\tNo\t\t\t\t</td>\n",
      "\t\t\t\t\t\t\t\t\t\t\t<td class=\"cell alt cat_heli_skiing\">\n",
      "\t\t\t\t\t\t\t\t\tNo\t\t\t\t</td>\n",
      "\t\t\t\t\t</tr>\n",
      "\t\t\t<tr>\n",
      "\t\t\t\t\t\t\t\t\t\t\t<td class=\"cell resort\">\n",
      "\t\t\t\t\t\t\t\t\tSteamboat\t\t\t\t</td>\n",
      "\t\t\t\t\t\t\t\t\t\t\t<td class=\"cell peak\">\n",
      "\t\t\t\t\t\t\t\t\t10,568'\t\t\t\t</td>\n",
      "\t\t\t\t\t\t\t\t\t\t\t<td class=\"cell base\">\n",
      "\t\t\t\t\t\t\t\t\t6,900'\t\t\t\t</td>\n",
      "\t\t\t\t\t\t\t\t\t\t\t<td class=\"cell vertical_rise\">\n",
      "\t\t\t\t\t\t\t\t\t3,668'\t\t\t\t</td>\n",
      "\t\t\t\t\t\t\t\t\t\t\t<td class=\"cell 10_year_snowfall_avg\">\n",
      "\t\t\t\t\t\t\t\t\t349\t\t\t\t</td>\n",
      "\t\t\t\t\t\t\t\t\t\t\t<td class=\"cell snow_making_acres\">\n",
      "\t\t\t\t\t\t\t\t\t375\t\t\t\t</td>\n",
      "\t\t\t\t\t\t\t\t\t\t\t<td class=\"cell lifts\">\n",
      "\t\t\t\t\t\t\t\t\t16\t\t\t\t</td>\n",
      "\t\t\t\t\t\t\t\t\t\t\t<td class=\"cell trails\">\n",
      "\t\t\t\t\t\t\t\t\t165\t\t\t\t</td>\n",
      "\t\t\t\t\t\t\t\t\t\t\t<td class=\"cell skiable_acres\">\n",
      "\t\t\t\t\t\t\t\t\t2,965\t\t\t\t</td>\n",
      "\t\t\t\t\t\t\t\t\t\t\t<td class=\"cell of_terrain_by_difficulty\">\n",
      "\t\t\t\t\t\t\t\t\t14/42/44\t\t\t\t</td>\n",
      "\t\t\t\t\t\t\t\t\t\t\t<td class=\"cell bowl_skiing\">\n",
      "\t\t\t\t\t\t\t\t\tYes\t\t\t\t</td>\n",
      "\t\t\t\t\t\t\t\t\t\t\t<td class=\"cell cat_heli_skiing\">\n",
      "\t\t\t\t\t\t\t\t\tYes\t\t\t\t</td>\n",
      "\t\t\t\t\t</tr>\n",
      "\t\t\t<tr>\n",
      "\t\t\t\t\t\t\t\t\t\t\t<td class=\"cell alt resort\">\n",
      "\t\t\t\t\t\t\t\t\tSunlight\t\t\t\t</td>\n",
      "\t\t\t\t\t\t\t\t\t\t\t<td class=\"cell alt peak\">\n",
      "\t\t\t\t\t\t\t\t\t9,895'\t\t\t\t</td>\n",
      "\t\t\t\t\t\t\t\t\t\t\t<td class=\"cell alt base\">\n",
      "\t\t\t\t\t\t\t\t\t7,885'\t\t\t\t</td>\n",
      "\t\t\t\t\t\t\t\t\t\t\t<td class=\"cell alt vertical_rise\">\n",
      "\t\t\t\t\t\t\t\t\t2,010'\t\t\t\t</td>\n",
      "\t\t\t\t\t\t\t\t\t\t\t<td class=\"cell alt 10_year_snowfall_avg\">\n",
      "\t\t\t\t\t\t\t\t\t250\t\t\t\t</td>\n",
      "\t\t\t\t\t\t\t\t\t\t\t<td class=\"cell alt snow_making_acres\">\n",
      "\t\t\t\t\t\t\t\t\t21\t\t\t\t</td>\n",
      "\t\t\t\t\t\t\t\t\t\t\t<td class=\"cell alt lifts\">\n",
      "\t\t\t\t\t\t\t\t\t3\t\t\t\t</td>\n",
      "\t\t\t\t\t\t\t\t\t\t\t<td class=\"cell alt trails\">\n",
      "\t\t\t\t\t\t\t\t\t67\t\t\t\t</td>\n",
      "\t\t\t\t\t\t\t\t\t\t\t<td class=\"cell alt skiable_acres\">\n",
      "\t\t\t\t\t\t\t\t\t680\t\t\t\t</td>\n",
      "\t\t\t\t\t\t\t\t\t\t\t<td class=\"cell alt of_terrain_by_difficulty\">\n",
      "\t\t\t\t\t\t\t\t\t20/55/20/5\t\t\t\t</td>\n",
      "\t\t\t\t\t\t\t\t\t\t\t<td class=\"cell alt bowl_skiing\">\n",
      "\t\t\t\t\t\t\t\t\tNo\t\t\t\t</td>\n",
      "\t\t\t\t\t\t\t\t\t\t\t<td class=\"cell alt cat_heli_skiing\">\n",
      "\t\t\t\t\t\t\t\t\tNo\t\t\t\t</td>\n",
      "\t\t\t\t\t</tr>\n",
      "\t\t\t<tr>\n",
      "\t\t\t\t\t\t\t\t\t\t\t<td class=\"cell resort\">\n",
      "\t\t\t\t\t\t\t\t\tTelluride\t\t\t\t</td>\n",
      "\t\t\t\t\t\t\t\t\t\t\t<td class=\"cell peak\">\n",
      "\t\t\t\t\t\t\t\t\t13,150'\t\t\t\t</td>\n",
      "\t\t\t\t\t\t\t\t\t\t\t<td class=\"cell base\">\n",
      "\t\t\t\t\t\t\t\t\t8,725'\t\t\t\t</td>\n",
      "\t\t\t\t\t\t\t\t\t\t\t<td class=\"cell vertical_rise\">\n",
      "\t\t\t\t\t\t\t\t\t4,425'\t\t\t\t</td>\n",
      "\t\t\t\t\t\t\t\t\t\t\t<td class=\"cell 10_year_snowfall_avg\">\n",
      "\t\t\t\t\t\t\t\t\t309\t\t\t\t</td>\n",
      "\t\t\t\t\t\t\t\t\t\t\t<td class=\"cell snow_making_acres\">\n",
      "\t\t\t\t\t\t\t\t\t220\t\t\t\t</td>\n",
      "\t\t\t\t\t\t\t\t\t\t\t<td class=\"cell lifts\">\n",
      "\t\t\t\t\t\t\t\t\t18\t\t\t\t</td>\n",
      "\t\t\t\t\t\t\t\t\t\t\t<td class=\"cell trails\">\n",
      "\t\t\t\t\t\t\t\t\t127\t\t\t\t</td>\n",
      "\t\t\t\t\t\t\t\t\t\t\t<td class=\"cell skiable_acres\">\n",
      "\t\t\t\t\t\t\t\t\t2,000\t\t\t\t</td>\n",
      "\t\t\t\t\t\t\t\t\t\t\t<td class=\"cell of_terrain_by_difficulty\">\n",
      "\t\t\t\t\t\t\t\t\t23/36/41\t\t\t\t</td>\n",
      "\t\t\t\t\t\t\t\t\t\t\t<td class=\"cell bowl_skiing\">\n",
      "\t\t\t\t\t\t\t\t\tYes\t\t\t\t</td>\n",
      "\t\t\t\t\t\t\t\t\t\t\t<td class=\"cell cat_heli_skiing\">\n",
      "\t\t\t\t\t\t\t\t\tYes\t\t\t\t</td>\n",
      "\t\t\t\t\t</tr>\n",
      "\t\t\t<tr>\n",
      "\t\t\t\t\t\t\t\t\t\t\t<td class=\"cell alt resort\">\n",
      "\t\t\t\t\t\t\t\t\tWinter Park\t\t\t\t</td>\n",
      "\t\t\t\t\t\t\t\t\t\t\t<td class=\"cell alt peak\">\n",
      "\t\t\t\t\t\t\t\t\t12,060'\t\t\t\t</td>\n",
      "\t\t\t\t\t\t\t\t\t\t\t<td class=\"cell alt base\">\n",
      "\t\t\t\t\t\t\t\t\t9,000'\t\t\t\t</td>\n",
      "\t\t\t\t\t\t\t\t\t\t\t<td class=\"cell alt vertical_rise\">\n",
      "\t\t\t\t\t\t\t\t\t3,060'\t\t\t\t</td>\n",
      "\t\t\t\t\t\t\t\t\t\t\t<td class=\"cell alt 10_year_snowfall_avg\">\n",
      "\t\t\t\t\t\t\t\t\t348\t\t\t\t</td>\n",
      "\t\t\t\t\t\t\t\t\t\t\t<td class=\"cell alt snow_making_acres\">\n",
      "\t\t\t\t\t\t\t\t\t313\t\t\t\t</td>\n",
      "\t\t\t\t\t\t\t\t\t\t\t<td class=\"cell alt lifts\">\n",
      "\t\t\t\t\t\t\t\t\t25\t\t\t\t</td>\n",
      "\t\t\t\t\t\t\t\t\t\t\t<td class=\"cell alt trails\">\n",
      "\t\t\t\t\t\t\t\t\t143\t\t\t\t</td>\n",
      "\t\t\t\t\t\t\t\t\t\t\t<td class=\"cell alt skiable_acres\">\n",
      "\t\t\t\t\t\t\t\t\t3,081\t\t\t\t</td>\n",
      "\t\t\t\t\t\t\t\t\t\t\t<td class=\"cell alt of_terrain_by_difficulty\">\n",
      "\t\t\t\t\t\t\t\t\t8/37/52/3\t\t\t\t</td>\n",
      "\t\t\t\t\t\t\t\t\t\t\t<td class=\"cell alt bowl_skiing\">\n",
      "\t\t\t\t\t\t\t\t\tYes\t\t\t\t</td>\n",
      "\t\t\t\t\t\t\t\t\t\t\t<td class=\"cell alt cat_heli_skiing\">\n",
      "\t\t\t\t\t\t\t\t\tYes\t\t\t\t</td>\n",
      "\t\t\t\t\t</tr>\n",
      "\t\t\t<tr>\n",
      "\t\t\t\t\t\t\t\t\t\t\t<td class=\"cell resort\">\n",
      "\t\t\t\t\t\t\t\t\tWolf Creek\t\t\t\t</td>\n",
      "\t\t\t\t\t\t\t\t\t\t\t<td class=\"cell peak\">\n",
      "\t\t\t\t\t\t\t\t\t11,904'\t\t\t\t</td>\n",
      "\t\t\t\t\t\t\t\t\t\t\t<td class=\"cell base\">\n",
      "\t\t\t\t\t\t\t\t\t10,300'\t\t\t\t</td>\n",
      "\t\t\t\t\t\t\t\t\t\t\t<td class=\"cell vertical_rise\">\n",
      "\t\t\t\t\t\t\t\t\t1,604'\t\t\t\t</td>\n",
      "\t\t\t\t\t\t\t\t\t\t\t<td class=\"cell 10_year_snowfall_avg\">\n",
      "\t\t\t\t\t\t\t\t\t430\t\t\t\t</td>\n",
      "\t\t\t\t\t\t\t\t\t\t\t<td class=\"cell snow_making_acres\">\n",
      "\t\t\t\t\t\t\t\t\t5\t\t\t\t</td>\n",
      "\t\t\t\t\t\t\t\t\t\t\t<td class=\"cell lifts\">\n",
      "\t\t\t\t\t\t\t\t\t9\t\t\t\t</td>\n",
      "\t\t\t\t\t\t\t\t\t\t\t<td class=\"cell trails\">\n",
      "\t\t\t\t\t\t\t\t\t77\t\t\t\t</td>\n",
      "\t\t\t\t\t\t\t\t\t\t\t<td class=\"cell skiable_acres\">\n",
      "\t\t\t\t\t\t\t\t\t1,600\t\t\t\t</td>\n",
      "\t\t\t\t\t\t\t\t\t\t\t<td class=\"cell of_terrain_by_difficulty\">\n",
      "\t\t\t\t\t\t\t\t\t20/35/25/20\t\t\t\t</td>\n",
      "\t\t\t\t\t\t\t\t\t\t\t<td class=\"cell bowl_skiing\">\n",
      "\t\t\t\t\t\t\t\t\tYes\t\t\t\t</td>\n",
      "\t\t\t\t\t\t\t\t\t\t\t<td class=\"cell cat_heli_skiing\">\n",
      "\t\t\t\t\t\t\t\t\tYes\t\t\t\t</td>\n",
      "\t\t\t\t\t</tr>\n",
      "\t\t</tbody>\n",
      "</table>\t\t</div>\n",
      "\t</main><!--#content-->\n",
      "\n",
      "\t  <footer class=\"footer light\">\n",
      "    <div class=\"container inner\">\n",
      "      <div class=\"row\">\n",
      "        <div class=\"col-sm-6 col-md-4 footer-nav\">\n",
      "          <div class=\"col-xs-6 col-md-12\"><ul><li><a href=\"/\" id=\"link-142\" class=\"widget-title upper\">Colorado Ski Country USA</a><ul><li><a href=\"/cscusa-history\" id=\"link-143\">About Us</a></li><li><a href=\"/Annual-Meeting\" id=\"link-144\">Annual Meeting</a></li><li><a href=\"/associate-member-information\" id=\"link-146\">Associate Members</a></li><li><a href=\"/Careers\" id=\"link-147\">Careers</a></li><li><a href=\"/contact\" id=\"link-148\">Contact Us</a></li><li><a href=\"/partner\" id=\"link-149\">Partners</a></li><li><a href=\"http://coloradoski.com/shop\" id=\"link-150\">Shop</a></li><li><a href=\"/Snow-Conference\" id=\"link-151\">Snow Conference</a></li><li><a href=\"/sustainability\" id=\"link-193\">Sustainability</a></li><li><a href=\"http://coloradoski.com/snow-report/signup\" id=\"link-202\">eNews &amp; eSnow Sign Up</a></li></ul></li></ul></div>\n",
      "          <div class=\"col-xs-6 col-md-12 no-marg\"><ul><li><a href=\"/media\" id=\"link-153\" class=\"widget-title upper\">Media Room</a><ul><li><a href=\"/skier-statistics\" id=\"link-157\" class=\"selected\">Facts &amp; Stats</a></li><li><a href=\"/media/image-galleries\" id=\"link-158\">Image Galleries</a></li><li><a href=\"/contacts\" id=\"link-159\">Resort Contacts</a></li><li><a href=\"/media/press-list-sign-up\" id=\"link-161\">Press List Sign Up</a></li><li><a href=\"/media/press-releases\" id=\"link-162\">Press Releases</a></li><li><a href=\"/media/story-ideas\" id=\"link-163\">Story Ideas</a></li></ul></li></ul></div>\n",
      "        </div>\n",
      "        <div class=\"col-xs-12 col-sm-6 col-md-4 footer-nav split\">\n",
      "          <ul><li><a href=\"/resorts\" id=\"link-164\" class=\"widget-title upper\">Resorts</a><ul><li><a href=\"/resorts/arapahoe-basin\" id=\"link-165\">Arapahoe Basin</a></li><li><a href=\"/resorts/aspen-highlands\" id=\"link-166\">Aspen Highlands</a></li><li><a href=\"/resorts/aspen-mountain\" id=\"link-167\">Aspen Mountain</a></li><li><a href=\"/resorts/buttermilk\" id=\"link-168\">Buttermilk</a></li><li><a href=\"/resorts/ski-cooper\" id=\"link-169\">Cooper</a></li><li><a href=\"/resorts/copper-mountain\" id=\"link-170\">Copper Mountain</a></li><li><a href=\"/resorts/crested-butte\" id=\"link-171\">Crested Butte</a></li><li><a href=\"/resorts/eldora\" id=\"link-172\">Eldora</a></li><li><a href=\"/resorts/skigranbyranch\" id=\"link-179\">Granby Ranch</a></li><li><a href=\"/resorts/howelsen\" id=\"link-173\">Howelsen</a></li><li><a href=\"/resorts/loveland\" id=\"link-174\">Loveland</a></li><li><a href=\"/resorts/monarch\" id=\"link-175\">Monarch</a></li><li><a href=\"/resorts/powderhorn\" id=\"link-176\">Powderhorn</a></li><li><a href=\"/resorts/purgatory\" id=\"link-177\">Purgatory</a></li><li><a href=\"/resorts/silverton\" id=\"link-178\">Silverton</a></li><li><a href=\"/resorts/snowmass\" id=\"link-180\">Snowmass</a></li><li><a href=\"/resorts/steamboat\" id=\"link-181\">Steamboat</a></li><li><a href=\"/resorts/sunlight\" id=\"link-182\">Sunlight</a></li><li><a href=\"/resorts/telluride\" id=\"link-183\">Telluride</a></li><li><a href=\"/resorts/winter-park\" id=\"link-184\">Winter Park</a></li><li><a href=\"/resorts/wolf-creek\" id=\"link-185\">Wolf Creek</a></li></ul></li></ul>        </div>\n",
      "        <div class=\"col-xs-12 col-md-4\">\n",
      "          <div class=\"partners-link\">\n",
      "            <a href=\"/partner\" class=\"widget-title upper\">Partners</a>\n",
      "            <a href=\"/partner\"><img src=\"/theme/colorado-v2/img/sponsors-footer@2x.jpg\" alt=\"\" /></a>\n",
      "          </div>\n",
      "          <!-- /.widget -->\n",
      "        </div>\n",
      "        <!-- /col -->\n",
      "      </div>\n",
      "      <!-- /.row -->\n",
      "    </div>\n",
      "    <!-- .container -->\n",
      "\n",
      "    <div class=\"sub-footer\">\n",
      "      <div class=\"container\">\n",
      "        <p class=\"pull-left\">&copy; Colorado Ski Country USA 2016. All Rights Reserved.</p>\n",
      "        <ul class=\"social-menu pull-right\">\n",
      "          <li><a target=\"_blank\" href=\"https://www.youtube.com/user/ColoradoSki\"><i class=\"icon-s-youtube\"></i></a></li>\n",
      "          <li><a target=\"_blank\" href=\"https://twitter.com/coloradoskiusa\"><i class=\"icon-s-twitter\"></i></a></li>\n",
      "          <li><a target=\"_blank\" href=\"https://www.facebook.com/ColoradoSkiCountryUSA\"><i class=\"icon-s-facebook\"></i></a></li>\n",
      "          <li><a target=\"_blank\" href=\"https://instagram.com/coloradoskicountryusa/\"><i class=\"icon-s-instagram\"></i></a></li>\n",
      "        </ul>\n",
      "      </div>\n",
      "    </div>\n",
      "  </footer>\n",
      "  <!-- /footer -->\n",
      "\n",
      "\n",
      "\t<script type=\"text/javascript\" src=\"/theme/colorado-v2/js/bootstrap.min.js\"></script>\n",
      "\t<script type=\"text/javascript\" src=\"/theme/colorado-v2/js/instafeed.min.js\"></script>\n",
      "\t<script type=\"text/javascript\" src=\"/theme/colorado-v2/js/jquery.fitvids.js\"></script>\n",
      "\t<script type=\"text/javascript\" src=\"/theme/colorado-v2/js/jquery.sticky.js\"></script>\n",
      "\t<script type=\"text/javascript\" src=\"/theme/colorado-v2/js/jquery.themepunch.plugins.min.js\"></script>\n",
      "\t<script type=\"text/javascript\" src=\"/theme/colorado-v2/js/jquery.themepunch.revolution.min.js\"></script>\n",
      "\t<script type=\"text/javascript\" src=\"/theme/colorado-v2/js/jquery/jquery.lightbox-0.5.pack.js\"></script>\n",
      "\t<script type=\"text/javascript\" src=\"/theme/colorado-v2/js/owl.carousel.min.js\"></script>\n",
      "\t<script type=\"text/javascript\" src=\"/theme/colorado-v2/js/twitter-bootstrap-hover-dropdown.min.js\"></script>\n",
      "\t<script type=\"text/javascript\" src=\"/theme/colorado-v2/js/scripts.js\"></script>\n",
      "\t<script type=\"text/javascript\" src=\"/theme/colorado-v2/js/theme.js\"></script>\n",
      "\n",
      "</body>\n",
      "</html>\n",
      "\n"
     ]
    }
   ],
   "source": [
    "#print headers and content\n",
    "\n",
    "print r.headers\n",
    "print r.content"
   ]
  },
  {
   "cell_type": "code",
   "execution_count": 4,
   "metadata": {
    "collapsed": true
   },
   "outputs": [],
   "source": [
    "insoup = BeautifulSoup(r.content,'lxml')"
   ]
  },
  {
   "cell_type": "code",
   "execution_count": 5,
   "metadata": {
    "collapsed": true
   },
   "outputs": [],
   "source": [
    "# function for getting mountain name from snow report\n",
    "\n",
    "def extract_mountain(loc):\n",
    "    try:\n",
    "        for n in loc.findAll(class_='cell resort'):\n",
    "            return n.text.strip()\n",
    "    except:\n",
    "        return 'None'"
   ]
  },
  {
   "cell_type": "code",
   "execution_count": 6,
   "metadata": {
    "collapsed": false
   },
   "outputs": [
    {
     "data": {
      "text/plain": [
       "u'Resort'"
      ]
     },
     "execution_count": 6,
     "metadata": {},
     "output_type": "execute_result"
    }
   ],
   "source": [
    "extract_mountain(insoup)"
   ]
  },
  {
   "cell_type": "code",
   "execution_count": 7,
   "metadata": {
    "collapsed": false
   },
   "outputs": [],
   "source": [
    "def extract_alt_mountain(loc):\n",
    "    try:\n",
    "        for n in loc.findAll(class_='cell alt resort'):\n",
    "            return n.text.strip()\n",
    "    except:\n",
    "        return 'None'"
   ]
  },
  {
   "cell_type": "code",
   "execution_count": 8,
   "metadata": {
    "collapsed": false
   },
   "outputs": [
    {
     "data": {
      "text/plain": [
       "u'Aspen Highlands'"
      ]
     },
     "execution_count": 8,
     "metadata": {},
     "output_type": "execute_result"
    }
   ],
   "source": [
    "extract_alt_mountain(insoup)"
   ]
  },
  {
   "cell_type": "code",
   "execution_count": 9,
   "metadata": {
    "collapsed": true
   },
   "outputs": [],
   "source": [
    "def extract_snowfall_average(loc):\n",
    "    try:\n",
    "        for n in loc.findAll(class_='cell 10_year_snowfall_avg'):\n",
    "            return n.text.strip()\n",
    "    except:\n",
    "        return 'None'\n"
   ]
  },
  {
   "cell_type": "code",
   "execution_count": 10,
   "metadata": {
    "collapsed": false
   },
   "outputs": [
    {
     "data": {
      "text/plain": [
       "u'10 Year Snowfall Avg.'"
      ]
     },
     "execution_count": 10,
     "metadata": {},
     "output_type": "execute_result"
    }
   ],
   "source": [
    "extract_snowfall_average(insoup)"
   ]
  },
  {
   "cell_type": "code",
   "execution_count": 11,
   "metadata": {
    "collapsed": true
   },
   "outputs": [],
   "source": [
    "def extract_skiable_acres(loc):\n",
    "    try:\n",
    "        for n in loc.findAll(class_='cell skiable_acres'):\n",
    "            return n.text.strip()\n",
    "    except:\n",
    "        return 'None'\n",
    "\n"
   ]
  },
  {
   "cell_type": "code",
   "execution_count": 12,
   "metadata": {
    "collapsed": false
   },
   "outputs": [
    {
     "data": {
      "text/plain": [
       "u'Skiable Acres'"
      ]
     },
     "execution_count": 12,
     "metadata": {},
     "output_type": "execute_result"
    }
   ],
   "source": [
    "extract_skiable_acres(insoup)"
   ]
  },
  {
   "cell_type": "code",
   "execution_count": 13,
   "metadata": {
    "collapsed": true
   },
   "outputs": [],
   "source": [
    "def extract_bowl_skiing(loc):\n",
    "    try:\n",
    "        for n in loc.findAll(class_='cell bowl_skiing'):\n",
    "            return n.text.strip()\n",
    "    except:\n",
    "        return 'None'\n"
   ]
  },
  {
   "cell_type": "code",
   "execution_count": 14,
   "metadata": {
    "collapsed": false
   },
   "outputs": [
    {
     "data": {
      "text/plain": [
       "u'Bowl Skiing'"
      ]
     },
     "execution_count": 14,
     "metadata": {},
     "output_type": "execute_result"
    }
   ],
   "source": [
    "extract_bowl_skiing(insoup)"
   ]
  },
  {
   "cell_type": "code",
   "execution_count": 15,
   "metadata": {
    "collapsed": true
   },
   "outputs": [],
   "source": [
    "def extract_lifts(loc):\n",
    "    try:\n",
    "        for n in loc.findAll(class_='cell lifts'):\n",
    "            return n.text.strip()\n",
    "    except:\n",
    "        return 'None'"
   ]
  },
  {
   "cell_type": "code",
   "execution_count": 16,
   "metadata": {
    "collapsed": false
   },
   "outputs": [
    {
     "data": {
      "text/plain": [
       "u'Lifts'"
      ]
     },
     "execution_count": 16,
     "metadata": {},
     "output_type": "execute_result"
    }
   ],
   "source": [
    "extract_lifts(insoup)"
   ]
  },
  {
   "cell_type": "code",
   "execution_count": 17,
   "metadata": {
    "collapsed": true
   },
   "outputs": [],
   "source": [
    "def extract_trails(loc):\n",
    "    try:\n",
    "        for n in loc.findAll(class_='cell trails'):\n",
    "            return n.text.strip()\n",
    "    except:\n",
    "        return 'None'"
   ]
  },
  {
   "cell_type": "code",
   "execution_count": 18,
   "metadata": {
    "collapsed": false
   },
   "outputs": [
    {
     "data": {
      "text/plain": [
       "u'Trails'"
      ]
     },
     "execution_count": 18,
     "metadata": {},
     "output_type": "execute_result"
    }
   ],
   "source": [
    "extract_trails(insoup)"
   ]
  },
  {
   "cell_type": "code",
   "execution_count": 19,
   "metadata": {
    "collapsed": true
   },
   "outputs": [],
   "source": [
    "def extract_skiable_acres(loc):\n",
    "    try:\n",
    "        for n in loc.findAll(class_='cell skiable_acres'):\n",
    "            return n.text.strip()\n",
    "    except:\n",
    "        return 'None'"
   ]
  },
  {
   "cell_type": "code",
   "execution_count": 20,
   "metadata": {
    "collapsed": false
   },
   "outputs": [
    {
     "data": {
      "text/plain": [
       "u'Skiable Acres'"
      ]
     },
     "execution_count": 20,
     "metadata": {},
     "output_type": "execute_result"
    }
   ],
   "source": [
    "extract_skiable_acres(insoup)"
   ]
  },
  {
   "cell_type": "code",
   "execution_count": 21,
   "metadata": {
    "collapsed": true
   },
   "outputs": [],
   "source": [
    "def extract_difficulty(loc):\n",
    "    try:\n",
    "        for n in loc.findAll(class_='cell of_terrain_by_difficulty'):\n",
    "            return n.text.strip()\n",
    "    except:\n",
    "        return 'None'"
   ]
  },
  {
   "cell_type": "code",
   "execution_count": 22,
   "metadata": {
    "collapsed": false
   },
   "outputs": [
    {
     "data": {
      "text/plain": [
       "u'% of terrain by difficulty'"
      ]
     },
     "execution_count": 22,
     "metadata": {},
     "output_type": "execute_result"
    }
   ],
   "source": [
    "extract_difficulty(insoup)"
   ]
  },
  {
   "cell_type": "code",
   "execution_count": 23,
   "metadata": {
    "collapsed": true
   },
   "outputs": [],
   "source": [
    "def extract_heli_skiing(loc):\n",
    "    try:\n",
    "        for n in loc.findAll(class_='cell cat_heli_skiing'):\n",
    "            return n.text.strip()\n",
    "    except:\n",
    "        return 'None'\n"
   ]
  },
  {
   "cell_type": "code",
   "execution_count": 24,
   "metadata": {
    "collapsed": false
   },
   "outputs": [
    {
     "data": {
      "text/plain": [
       "u'Cat/Heli Skiing'"
      ]
     },
     "execution_count": 24,
     "metadata": {},
     "output_type": "execute_result"
    }
   ],
   "source": [
    "extract_heli_skiing(insoup)"
   ]
  },
  {
   "cell_type": "code",
   "execution_count": 25,
   "metadata": {
    "collapsed": true
   },
   "outputs": [],
   "source": [
    "def extract_vertical_rise(loc):\n",
    "    try:\n",
    "        for n in loc.findAll(class_='cell vertical_rise'):\n",
    "            return n.text.strip()\n",
    "    except:\n",
    "        return 'None'"
   ]
  },
  {
   "cell_type": "code",
   "execution_count": 26,
   "metadata": {
    "collapsed": false
   },
   "outputs": [
    {
     "data": {
      "text/plain": [
       "u'Vertical Rise'"
      ]
     },
     "execution_count": 26,
     "metadata": {},
     "output_type": "execute_result"
    }
   ],
   "source": [
    "extract_vertical_rise(insoup)"
   ]
  },
  {
   "cell_type": "code",
   "execution_count": 27,
   "metadata": {
    "collapsed": true
   },
   "outputs": [],
   "source": [
    "mountain = []\n",
    "snowfall = []\n",
    "skiiable_acres = []\n",
    "bowl_skiing = []\n",
    "lifts = []\n",
    "trails = []\n",
    "difficulty = []\n",
    "heli_skiing = []"
   ]
  },
  {
   "cell_type": "code",
   "execution_count": 28,
   "metadata": {
    "collapsed": false
   },
   "outputs": [
    {
     "data": {
      "text/plain": [
       "[<tr>\\n<th class=\"cell resort\">\\n<a href=\"/skier-statistics/sort:resort\">\\n\\t\\t\\t\\t\\t\\tResort\\t\\t\\t\\t\\t</a>\\n</th>\\n<th class=\"cell peak\">\\n<a href=\"/skier-statistics/sort:peak\">\\n\\t\\t\\t\\t\\t\\tPeak\\t\\t\\t\\t\\t</a>\\n</th>\\n<th class=\"cell base\">\\n<a href=\"/skier-statistics/sort:base\">\\n\\t\\t\\t\\t\\t\\tBase\\t\\t\\t\\t\\t</a>\\n</th>\\n<th class=\"cell vertical_rise\">\\n<a href=\"/skier-statistics/sort:vertical_rise\">\\n\\t\\t\\t\\t\\t\\tVertical Rise\\t\\t\\t\\t\\t</a>\\n</th>\\n<th class=\"cell 10_year_snowfall_avg\">\\n<a href=\"/skier-statistics/sort:10_year_snowfall_avg\">\\n\\t\\t\\t\\t\\t\\t10 Year Snowfall Avg.\\t\\t\\t\\t\\t</a>\\n</th>\\n<th class=\"cell snow_making_acres\">\\n<a href=\"/skier-statistics/sort:snow_making_acres\">\\n\\t\\t\\t\\t\\t\\tSnow Making Acres\\t\\t\\t\\t\\t</a>\\n</th>\\n<th class=\"cell lifts\">\\n<a href=\"/skier-statistics/sort:lifts\">\\n\\t\\t\\t\\t\\t\\tLifts\\t\\t\\t\\t\\t</a>\\n</th>\\n<th class=\"cell trails\">\\n<a href=\"/skier-statistics/sort:trails\">\\n\\t\\t\\t\\t\\t\\tTrails\\t\\t\\t\\t\\t</a>\\n</th>\\n<th class=\"cell skiable_acres\">\\n<a href=\"/skier-statistics/sort:skiable_acres\">\\n\\t\\t\\t\\t\\t\\tSkiable Acres\\t\\t\\t\\t\\t</a>\\n</th>\\n<th class=\"cell of_terrain_by_difficulty\">\\n<a href=\"/skier-statistics/sort:of_terrain_by_difficulty\">\\n\\t\\t\\t\\t\\t\\t% of terrain by difficulty\\t\\t\\t\\t\\t</a>\\n</th>\\n<th class=\"cell bowl_skiing\">\\n<a href=\"/skier-statistics/sort:bowl_skiing\">\\n\\t\\t\\t\\t\\t\\tBowl Skiing\\t\\t\\t\\t\\t</a>\\n</th>\\n<th class=\"cell cat_heli_skiing\">\\n<a href=\"/skier-statistics/sort:cat_heli_skiing\">\\n\\t\\t\\t\\t\\t\\tCat/Heli Skiing\\t\\t\\t\\t\\t</a>\\n</th>\\n</tr>,\n",
       " <tr>\\n<td class=\"cell resort\">\\n\\t\\t\\t\\t\\t\\t\\t\\t\\tArapahoe Basin\\t\\t\\t\\t</td>\\n<td class=\"cell peak\">\\n\\t\\t\\t\\t\\t\\t\\t\\t\\t13,050'\\t\\t\\t\\t</td>\\n<td class=\"cell base\">\\n\\t\\t\\t\\t\\t\\t\\t\\t\\t10,780'\\t\\t\\t\\t</td>\\n<td class=\"cell vertical_rise\">\\n\\t\\t\\t\\t\\t\\t\\t\\t\\t2,270'\\t\\t\\t\\t</td>\\n<td class=\"cell 10_year_snowfall_avg\">\\n\\t\\t\\t\\t\\t\\t\\t\\t\\t350\"\\t\\t\\t\\t</td>\\n<td class=\"cell snow_making_acres\">\\n\\t\\t\\t\\t\\t\\t\\t\\t\\t125\\t\\t\\t\\t</td>\\n<td class=\"cell lifts\">\\n\\t\\t\\t\\t\\t\\t\\t\\t\\t8\\t\\t\\t\\t</td>\\n<td class=\"cell trails\">\\n\\t\\t\\t\\t\\t\\t\\t\\t\\t109\\t\\t\\t\\t</td>\\n<td class=\"cell skiable_acres\">\\n\\t\\t\\t\\t\\t\\t\\t\\t\\t960\\t\\t\\t\\t</td>\\n<td class=\"cell of_terrain_by_difficulty\">\\n\\t\\t\\t\\t\\t\\t\\t\\t\\t10/30/37/23\\t\\t\\t\\t</td>\\n<td class=\"cell bowl_skiing\">\\n\\t\\t\\t\\t\\t\\t\\t\\t\\tYes\\t\\t\\t\\t</td>\\n<td class=\"cell cat_heli_skiing\">\\n\\t\\t\\t\\t\\t\\t\\t\\t\\tNo\\t\\t\\t\\t</td>\\n</tr>,\n",
       " <tr>\\n<td class=\"cell alt resort\">\\n\\t\\t\\t\\t\\t\\t\\t\\t\\tAspen Highlands\\t\\t\\t\\t</td>\\n<td class=\"cell alt peak\">\\n\\t\\t\\t\\t\\t\\t\\t\\t\\t12,392'\\t\\t\\t\\t</td>\\n<td class=\"cell alt base\">\\n\\t\\t\\t\\t\\t\\t\\t\\t\\t8,040'\\t\\t\\t\\t</td>\\n<td class=\"cell alt vertical_rise\">\\n\\t\\t\\t\\t\\t\\t\\t\\t\\t4,352'\\t\\t\\t\\t</td>\\n<td class=\"cell alt 10_year_snowfall_avg\">\\n\\t\\t\\t\\t\\t\\t\\t\\t\\t300\\t\\t\\t\\t</td>\\n<td class=\"cell alt snow_making_acres\">\\n\\t\\t\\t\\t\\t\\t\\t\\t\\t121\\t\\t\\t\\t</td>\\n<td class=\"cell alt lifts\">\\n\\t\\t\\t\\t\\t\\t\\t\\t\\t5\\t\\t\\t\\t</td>\\n<td class=\"cell alt trails\">\\n\\t\\t\\t\\t\\t\\t\\t\\t\\t122\\t\\t\\t\\t</td>\\n<td class=\"cell alt skiable_acres\">\\n\\t\\t\\t\\t\\t\\t\\t\\t\\t1,040\\t\\t\\t\\t</td>\\n<td class=\"cell alt of_terrain_by_difficulty\">\\n\\t\\t\\t\\t\\t\\t\\t\\t\\t18/30/16/36\\t\\t\\t\\t</td>\\n<td class=\"cell alt bowl_skiing\">\\n\\t\\t\\t\\t\\t\\t\\t\\t\\tYes\\t\\t\\t\\t</td>\\n<td class=\"cell alt cat_heli_skiing\">\\n\\t\\t\\t\\t\\t\\t\\t\\t\\tYes\\t\\t\\t\\t</td>\\n</tr>,\n",
       " <tr>\\n<td class=\"cell resort\">\\n\\t\\t\\t\\t\\t\\t\\t\\t\\tAspen Mountain\\t\\t\\t\\t</td>\\n<td class=\"cell peak\">\\n\\t\\t\\t\\t\\t\\t\\t\\t\\t11,212'\\t\\t\\t\\t</td>\\n<td class=\"cell base\">\\n\\t\\t\\t\\t\\t\\t\\t\\t\\t7,945'\\t\\t\\t\\t</td>\\n<td class=\"cell vertical_rise\">\\n\\t\\t\\t\\t\\t\\t\\t\\t\\t3,267'\\t\\t\\t\\t</td>\\n<td class=\"cell 10_year_snowfall_avg\">\\n\\t\\t\\t\\t\\t\\t\\t\\t\\t300\\t\\t\\t\\t</td>\\n<td class=\"cell snow_making_acres\">\\n\\t\\t\\t\\t\\t\\t\\t\\t\\t210\\t\\t\\t\\t</td>\\n<td class=\"cell lifts\">\\n\\t\\t\\t\\t\\t\\t\\t\\t\\t8\\t\\t\\t\\t</td>\\n<td class=\"cell trails\">\\n\\t\\t\\t\\t\\t\\t\\t\\t\\t76\\t\\t\\t\\t</td>\\n<td class=\"cell skiable_acres\">\\n\\t\\t\\t\\t\\t\\t\\t\\t\\t675\\t\\t\\t\\t</td>\\n<td class=\"cell of_terrain_by_difficulty\">\\n\\t\\t\\t\\t\\t\\t\\t\\t\\t0/48/26/26\\t\\t\\t\\t</td>\\n<td class=\"cell bowl_skiing\">\\n\\t\\t\\t\\t\\t\\t\\t\\t\\tYes\\t\\t\\t\\t</td>\\n<td class=\"cell cat_heli_skiing\">\\n\\t\\t\\t\\t\\t\\t\\t\\t\\tYes\\t\\t\\t\\t</td>\\n</tr>,\n",
       " <tr>\\n<td class=\"cell alt resort\">\\n\\t\\t\\t\\t\\t\\t\\t\\t\\tButtermilk\\t\\t\\t\\t</td>\\n<td class=\"cell alt peak\">\\n\\t\\t\\t\\t\\t\\t\\t\\t\\t9,900'\\t\\t\\t\\t</td>\\n<td class=\"cell alt base\">\\n\\t\\t\\t\\t\\t\\t\\t\\t\\t7,870'\\t\\t\\t\\t</td>\\n<td class=\"cell alt vertical_rise\">\\n\\t\\t\\t\\t\\t\\t\\t\\t\\t2,030'\\t\\t\\t\\t</td>\\n<td class=\"cell alt 10_year_snowfall_avg\">\\n\\t\\t\\t\\t\\t\\t\\t\\t\\t200\\t\\t\\t\\t</td>\\n<td class=\"cell alt snow_making_acres\">\\n\\t\\t\\t\\t\\t\\t\\t\\t\\t108\\t\\t\\t\\t</td>\\n<td class=\"cell alt lifts\">\\n\\t\\t\\t\\t\\t\\t\\t\\t\\t8\\t\\t\\t\\t</td>\\n<td class=\"cell alt trails\">\\n\\t\\t\\t\\t\\t\\t\\t\\t\\t44\\t\\t\\t\\t</td>\\n<td class=\"cell alt skiable_acres\">\\n\\t\\t\\t\\t\\t\\t\\t\\t\\t470\\t\\t\\t\\t</td>\\n<td class=\"cell alt of_terrain_by_difficulty\">\\n\\t\\t\\t\\t\\t\\t\\t\\t\\t35/39/21/5\\t\\t\\t\\t</td>\\n<td class=\"cell alt bowl_skiing\">\\n\\t\\t\\t\\t\\t\\t\\t\\t\\tNo\\t\\t\\t\\t</td>\\n<td class=\"cell alt cat_heli_skiing\">\\n\\t\\t\\t\\t\\t\\t\\t\\t\\tNo\\t\\t\\t\\t</td>\\n</tr>,\n",
       " <tr>\\n<td class=\"cell resort\">\\n\\t\\t\\t\\t\\t\\t\\t\\t\\tCopper Mountain\\t\\t\\t\\t</td>\\n<td class=\"cell peak\">\\n\\t\\t\\t\\t\\t\\t\\t\\t\\t12,313'\\t\\t\\t\\t</td>\\n<td class=\"cell base\">\\n\\t\\t\\t\\t\\t\\t\\t\\t\\t9,703'\\t\\t\\t\\t</td>\\n<td class=\"cell vertical_rise\">\\n\\t\\t\\t\\t\\t\\t\\t\\t\\t2,601'\\t\\t\\t\\t</td>\\n<td class=\"cell 10_year_snowfall_avg\">\\n\\t\\t\\t\\t\\t\\t\\t\\t\\t304\\t\\t\\t\\t</td>\\n<td class=\"cell snow_making_acres\">\\n\\t\\t\\t\\t\\t\\t\\t\\t\\t364\\t\\t\\t\\t</td>\\n<td class=\"cell lifts\">\\n\\t\\t\\t\\t\\t\\t\\t\\t\\t23\\t\\t\\t\\t</td>\\n<td class=\"cell trails\">\\n\\t\\t\\t\\t\\t\\t\\t\\t\\t140\\t\\t\\t\\t</td>\\n<td class=\"cell skiable_acres\">\\n\\t\\t\\t\\t\\t\\t\\t\\t\\t2,465\\t\\t\\t\\t</td>\\n<td class=\"cell of_terrain_by_difficulty\">\\n\\t\\t\\t\\t\\t\\t\\t\\t\\t21/25/36/18\\t\\t\\t\\t</td>\\n<td class=\"cell bowl_skiing\">\\n\\t\\t\\t\\t\\t\\t\\t\\t\\tYes\\t\\t\\t\\t</td>\\n<td class=\"cell cat_heli_skiing\">\\n\\t\\t\\t\\t\\t\\t\\t\\t\\tYes\\t\\t\\t\\t</td>\\n</tr>,\n",
       " <tr>\\n<td class=\"cell alt resort\">\\n\\t\\t\\t\\t\\t\\t\\t\\t\\tCrested Butte\\t\\t\\t\\t</td>\\n<td class=\"cell alt peak\">\\n\\t\\t\\t\\t\\t\\t\\t\\t\\t12,437'\\t\\t\\t\\t</td>\\n<td class=\"cell alt base\">\\n\\t\\t\\t\\t\\t\\t\\t\\t\\t9,375'\\t\\t\\t\\t</td>\\n<td class=\"cell alt vertical_rise\">\\n\\t\\t\\t\\t\\t\\t\\t\\t\\t3,062'\\t\\t\\t\\t</td>\\n<td class=\"cell alt 10_year_snowfall_avg\">\\n\\t\\t\\t\\t\\t\\t\\t\\t\\t300\\t\\t\\t\\t</td>\\n<td class=\"cell alt snow_making_acres\">\\n\\t\\t\\t\\t\\t\\t\\t\\t\\t297\\t\\t\\t\\t</td>\\n<td class=\"cell alt lifts\">\\n\\t\\t\\t\\t\\t\\t\\t\\t\\t15\\t\\t\\t\\t</td>\\n<td class=\"cell alt trails\">\\n\\t\\t\\t\\t\\t\\t\\t\\t\\t121\\t\\t\\t\\t</td>\\n<td class=\"cell alt skiable_acres\">\\n\\t\\t\\t\\t\\t\\t\\t\\t\\t1,547\\t\\t\\t\\t</td>\\n<td class=\"cell alt of_terrain_by_difficulty\">\\n\\t\\t\\t\\t\\t\\t\\t\\t\\t21/57/16\\t\\t\\t\\t</td>\\n<td class=\"cell alt bowl_skiing\">\\n\\t\\t\\t\\t\\t\\t\\t\\t\\tYes\\t\\t\\t\\t</td>\\n<td class=\"cell alt cat_heli_skiing\">\\n\\t\\t\\t\\t\\t\\t\\t\\t\\tYes\\t\\t\\t\\t</td>\\n</tr>,\n",
       " <tr>\\n<td class=\"cell resort\">\\n\\t\\t\\t\\t\\t\\t\\t\\t\\tEldora\\t\\t\\t\\t</td>\\n<td class=\"cell peak\">\\n\\t\\t\\t\\t\\t\\t\\t\\t\\t10,800'\\t\\t\\t\\t</td>\\n<td class=\"cell base\">\\n\\t\\t\\t\\t\\t\\t\\t\\t\\t9,200'\\t\\t\\t\\t</td>\\n<td class=\"cell vertical_rise\">\\n\\t\\t\\t\\t\\t\\t\\t\\t\\t1,600'\\t\\t\\t\\t</td>\\n<td class=\"cell 10_year_snowfall_avg\">\\n\\t\\t\\t\\t\\t\\t\\t\\t\\t300\\t\\t\\t\\t</td>\\n<td class=\"cell snow_making_acres\">\\n\\t\\t\\t\\t\\t\\t\\t\\t\\t612\\t\\t\\t\\t</td>\\n<td class=\"cell lifts\">\\n\\t\\t\\t\\t\\t\\t\\t\\t\\t11\\t\\t\\t\\t</td>\\n<td class=\"cell trails\">\\n\\t\\t\\t\\t\\t\\t\\t\\t\\t53\\t\\t\\t\\t</td>\\n<td class=\"cell skiable_acres\">\\n\\t\\t\\t\\t\\t\\t\\t\\t\\t680\\t\\t\\t\\t</td>\\n<td class=\"cell of_terrain_by_difficulty\">\\n\\t\\t\\t\\t\\t\\t\\t\\t\\t20/50/15/15\\t\\t\\t\\t</td>\\n<td class=\"cell bowl_skiing\">\\n\\t\\t\\t\\t\\t\\t\\t\\t\\tYes\\t\\t\\t\\t</td>\\n<td class=\"cell cat_heli_skiing\">\\n\\t\\t\\t\\t\\t\\t\\t\\t\\tNo\\t\\t\\t\\t</td>\\n</tr>,\n",
       " <tr>\\n<td class=\"cell alt resort\">\\n\\t\\t\\t\\t\\t\\t\\t\\t\\tHowelsen\\t\\t\\t\\t</td>\\n<td class=\"cell alt peak\">\\n\\t\\t\\t\\t\\t\\t\\t\\t\\t7,136'\\t\\t\\t\\t</td>\\n<td class=\"cell alt base\">\\n\\t\\t\\t\\t\\t\\t\\t\\t\\t6,696'\\t\\t\\t\\t</td>\\n<td class=\"cell alt vertical_rise\">\\n\\t\\t\\t\\t\\t\\t\\t\\t\\t440'\\t\\t\\t\\t</td>\\n<td class=\"cell alt 10_year_snowfall_avg\">\\n\\t\\t\\t\\t\\t\\t\\t\\t\\t150\\t\\t\\t\\t</td>\\n<td class=\"cell alt snow_making_acres\">\\n\\t\\t\\t\\t\\t\\t\\t\\t\\t50\\t\\t\\t\\t</td>\\n<td class=\"cell alt lifts\">\\n\\t\\t\\t\\t\\t\\t\\t\\t\\t4\\t\\t\\t\\t</td>\\n<td class=\"cell alt trails\">\\n\\t\\t\\t\\t\\t\\t\\t\\t\\t17\\t\\t\\t\\t</td>\\n<td class=\"cell alt skiable_acres\">\\n\\t\\t\\t\\t\\t\\t\\t\\t\\t50\\t\\t\\t\\t</td>\\n<td class=\"cell alt of_terrain_by_difficulty\">\\n\\t\\t\\t\\t\\t\\t\\t\\t\\t25/20/55/0\\t\\t\\t\\t</td>\\n<td class=\"cell alt bowl_skiing\">\\n\\t\\t\\t\\t\\t\\t\\t\\t\\tNo\\t\\t\\t\\t</td>\\n<td class=\"cell alt cat_heli_skiing\">\\n\\t\\t\\t\\t\\t\\t\\t\\t\\tNo\\t\\t\\t\\t</td>\\n</tr>,\n",
       " <tr>\\n<td class=\"cell resort\">\\n\\t\\t\\t\\t\\t\\t\\t\\t\\tLoveland\\t\\t\\t\\t</td>\\n<td class=\"cell peak\">\\n\\t\\t\\t\\t\\t\\t\\t\\t\\t13,010'\\t\\t\\t\\t</td>\\n<td class=\"cell base\">\\n\\t\\t\\t\\t\\t\\t\\t\\t\\t10,800'\\t\\t\\t\\t</td>\\n<td class=\"cell vertical_rise\">\\n\\t\\t\\t\\t\\t\\t\\t\\t\\t2,210'\\t\\t\\t\\t</td>\\n<td class=\"cell 10_year_snowfall_avg\">\\n\\t\\t\\t\\t\\t\\t\\t\\t\\t422\\t\\t\\t\\t</td>\\n<td class=\"cell snow_making_acres\">\\n\\t\\t\\t\\t\\t\\t\\t\\t\\t240\\t\\t\\t\\t</td>\\n<td class=\"cell lifts\">\\n\\t\\t\\t\\t\\t\\t\\t\\t\\t10\\t\\t\\t\\t</td>\\n<td class=\"cell trails\">\\n\\t\\t\\t\\t\\t\\t\\t\\t\\t93\\t\\t\\t\\t</td>\\n<td class=\"cell skiable_acres\">\\n\\t\\t\\t\\t\\t\\t\\t\\t\\t1,800\\t\\t\\t\\t</td>\\n<td class=\"cell of_terrain_by_difficulty\">\\n\\t\\t\\t\\t\\t\\t\\t\\t\\t13/41/22/24\\t\\t\\t\\t</td>\\n<td class=\"cell bowl_skiing\">\\n\\t\\t\\t\\t\\t\\t\\t\\t\\tYes\\t\\t\\t\\t</td>\\n<td class=\"cell cat_heli_skiing\">\\n\\t\\t\\t\\t\\t\\t\\t\\t\\tYes\\t\\t\\t\\t</td>\\n</tr>,\n",
       " <tr>\\n<td class=\"cell alt resort\">\\n\\t\\t\\t\\t\\t\\t\\t\\t\\tMonarch\\t\\t\\t\\t</td>\\n<td class=\"cell alt peak\">\\n\\t\\t\\t\\t\\t\\t\\t\\t\\t11,952'\\t\\t\\t\\t</td>\\n<td class=\"cell alt base\">\\n\\t\\t\\t\\t\\t\\t\\t\\t\\t10,790'\\t\\t\\t\\t</td>\\n<td class=\"cell alt vertical_rise\">\\n\\t\\t\\t\\t\\t\\t\\t\\t\\t1,162'\\t\\t\\t\\t</td>\\n<td class=\"cell alt 10_year_snowfall_avg\">\\n\\t\\t\\t\\t\\t\\t\\t\\t\\t350\\t\\t\\t\\t</td>\\n<td class=\"cell alt snow_making_acres\">\\n\\t\\t\\t\\t\\t\\t\\t\\t\\t0\\t\\t\\t\\t</td>\\n<td class=\"cell alt lifts\">\\n\\t\\t\\t\\t\\t\\t\\t\\t\\t8\\t\\t\\t\\t</td>\\n<td class=\"cell alt trails\">\\n\\t\\t\\t\\t\\t\\t\\t\\t\\t54\\t\\t\\t\\t</td>\\n<td class=\"cell alt skiable_acres\">\\n\\t\\t\\t\\t\\t\\t\\t\\t\\t800\\t\\t\\t\\t</td>\\n<td class=\"cell alt of_terrain_by_difficulty\">\\n\\t\\t\\t\\t\\t\\t\\t\\t\\t26/31/43\\t\\t\\t\\t</td>\\n<td class=\"cell alt bowl_skiing\">\\n\\t\\t\\t\\t\\t\\t\\t\\t\\tYes\\t\\t\\t\\t</td>\\n<td class=\"cell alt cat_heli_skiing\">\\n\\t\\t\\t\\t\\t\\t\\t\\t\\tYes\\t\\t\\t\\t</td>\\n</tr>,\n",
       " <tr>\\n<td class=\"cell resort\">\\n\\t\\t\\t\\t\\t\\t\\t\\t\\tPowderhorn\\t\\t\\t\\t</td>\\n<td class=\"cell peak\">\\n\\t\\t\\t\\t\\t\\t\\t\\t\\t9,850'\\t\\t\\t\\t</td>\\n<td class=\"cell base\">\\n\\t\\t\\t\\t\\t\\t\\t\\t\\t8,200'\\t\\t\\t\\t</td>\\n<td class=\"cell vertical_rise\">\\n\\t\\t\\t\\t\\t\\t\\t\\t\\t1,650'\\t\\t\\t\\t</td>\\n<td class=\"cell 10_year_snowfall_avg\">\\n\\t\\t\\t\\t\\t\\t\\t\\t\\t250\\t\\t\\t\\t</td>\\n<td class=\"cell snow_making_acres\">\\n\\t\\t\\t\\t\\t\\t\\t\\t\\t21\\t\\t\\t\\t</td>\\n<td class=\"cell lifts\">\\n\\t\\t\\t\\t\\t\\t\\t\\t\\t5\\t\\t\\t\\t</td>\\n<td class=\"cell trails\">\\n\\t\\t\\t\\t\\t\\t\\t\\t\\t63\\t\\t\\t\\t</td>\\n<td class=\"cell skiable_acres\">\\n\\t\\t\\t\\t\\t\\t\\t\\t\\t1,600\\t\\t\\t\\t</td>\\n<td class=\"cell of_terrain_by_difficulty\">\\n\\t\\t\\t\\t\\t\\t\\t\\t\\t20/50/30\\t\\t\\t\\t</td>\\n<td class=\"cell bowl_skiing\">\\n\\t\\t\\t\\t\\t\\t\\t\\t\\tNo\\t\\t\\t\\t</td>\\n<td class=\"cell cat_heli_skiing\">\\n\\t\\t\\t\\t\\t\\t\\t\\t\\tNo\\t\\t\\t\\t</td>\\n</tr>,\n",
       " <tr>\\n<td class=\"cell alt resort\">\\n\\t\\t\\t\\t\\t\\t\\t\\t\\tPurgatory at DMR\\t\\t\\t\\t</td>\\n<td class=\"cell alt peak\">\\n\\t\\t\\t\\t\\t\\t\\t\\t\\t10,822'\\t\\t\\t\\t</td>\\n<td class=\"cell alt base\">\\n\\t\\t\\t\\t\\t\\t\\t\\t\\t8,793'\\t\\t\\t\\t</td>\\n<td class=\"cell alt vertical_rise\">\\n\\t\\t\\t\\t\\t\\t\\t\\t\\t2,029'\\t\\t\\t\\t</td>\\n<td class=\"cell alt 10_year_snowfall_avg\">\\n\\t\\t\\t\\t\\t\\t\\t\\t\\t260\\t\\t\\t\\t</td>\\n<td class=\"cell alt snow_making_acres\">\\n\\t\\t\\t\\t\\t\\t\\t\\t\\t250\\t\\t\\t\\t</td>\\n<td class=\"cell alt lifts\">\\n\\t\\t\\t\\t\\t\\t\\t\\t\\t11\\t\\t\\t\\t</td>\\n<td class=\"cell alt trails\">\\n\\t\\t\\t\\t\\t\\t\\t\\t\\t92\\t\\t\\t\\t</td>\\n<td class=\"cell alt skiable_acres\">\\n\\t\\t\\t\\t\\t\\t\\t\\t\\t1,525\\t\\t\\t\\t</td>\\n<td class=\"cell alt of_terrain_by_difficulty\">\\n\\t\\t\\t\\t\\t\\t\\t\\t\\t20/45/35\\t\\t\\t\\t</td>\\n<td class=\"cell alt bowl_skiing\">\\n\\t\\t\\t\\t\\t\\t\\t\\t\\tNo\\t\\t\\t\\t</td>\\n<td class=\"cell alt cat_heli_skiing\">\\n\\t\\t\\t\\t\\t\\t\\t\\t\\tYes\\t\\t\\t\\t</td>\\n</tr>,\n",
       " <tr>\\n<td class=\"cell resort\">\\n\\t\\t\\t\\t\\t\\t\\t\\t\\tSilverton\\t\\t\\t\\t</td>\\n<td class=\"cell peak\">\\n\\t\\t\\t\\t\\t\\t\\t\\t\\t13,487'\\t\\t\\t\\t</td>\\n<td class=\"cell base\">\\n\\t\\t\\t\\t\\t\\t\\t\\t\\t10,400'\\t\\t\\t\\t</td>\\n<td class=\"cell vertical_rise\">\\n\\t\\t\\t\\t\\t\\t\\t\\t\\t3,087'\\t\\t\\t\\t</td>\\n<td class=\"cell 10_year_snowfall_avg\">\\n\\t\\t\\t\\t\\t\\t\\t\\t\\t400\\t\\t\\t\\t</td>\\n<td class=\"cell snow_making_acres\">\\n\\t\\t\\t\\t\\t\\t\\t\\t\\t0\\t\\t\\t\\t</td>\\n<td class=\"cell lifts\">\\n\\t\\t\\t\\t\\t\\t\\t\\t\\t1\\t\\t\\t\\t</td>\\n<td class=\"cell trails\">\\n\\t\\t\\t\\t\\t\\t\\t\\t\\t69\\t\\t\\t\\t</td>\\n<td class=\"cell skiable_acres\">\\n\\t\\t\\t\\t\\t\\t\\t\\t\\t1,819\\t\\t\\t\\t</td>\\n<td class=\"cell of_terrain_by_difficulty\">\\n\\t\\t\\t\\t\\t\\t\\t\\t\\t0/0/0/100\\t\\t\\t\\t</td>\\n<td class=\"cell bowl_skiing\">\\n\\t\\t\\t\\t\\t\\t\\t\\t\\tYes\\t\\t\\t\\t</td>\\n<td class=\"cell cat_heli_skiing\">\\n\\t\\t\\t\\t\\t\\t\\t\\t\\tYes\\t\\t\\t\\t</td>\\n</tr>,\n",
       " <tr>\\n<td class=\"cell alt resort\">\\n\\t\\t\\t\\t\\t\\t\\t\\t\\tCooper\\t\\t\\t\\t</td>\\n<td class=\"cell alt peak\">\\n\\t\\t\\t\\t\\t\\t\\t\\t\\t11,700'\\t\\t\\t\\t</td>\\n<td class=\"cell alt base\">\\n\\t\\t\\t\\t\\t\\t\\t\\t\\t10,500'\\t\\t\\t\\t</td>\\n<td class=\"cell alt vertical_rise\">\\n\\t\\t\\t\\t\\t\\t\\t\\t\\t1,200'\\t\\t\\t\\t</td>\\n<td class=\"cell alt 10_year_snowfall_avg\">\\n\\t\\t\\t\\t\\t\\t\\t\\t\\t250\\t\\t\\t\\t</td>\\n<td class=\"cell alt snow_making_acres\">\\n\\t\\t\\t\\t\\t\\t\\t\\t\\t0\\t\\t\\t\\t</td>\\n<td class=\"cell alt lifts\">\\n\\t\\t\\t\\t\\t\\t\\t\\t\\t4\\t\\t\\t\\t</td>\\n<td class=\"cell alt trails\">\\n\\t\\t\\t\\t\\t\\t\\t\\t\\t26\\t\\t\\t\\t</td>\\n<td class=\"cell alt skiable_acres\">\\n\\t\\t\\t\\t\\t\\t\\t\\t\\t400\\t\\t\\t\\t</td>\\n<td class=\"cell alt of_terrain_by_difficulty\">\\n\\t\\t\\t\\t\\t\\t\\t\\t\\t30/40/30\\t\\t\\t\\t</td>\\n<td class=\"cell alt bowl_skiing\">\\n\\t\\t\\t\\t\\t\\t\\t\\t\\tYes\\t\\t\\t\\t</td>\\n<td class=\"cell alt cat_heli_skiing\">\\n\\t\\t\\t\\t\\t\\t\\t\\t\\tYes\\t\\t\\t\\t</td>\\n</tr>,\n",
       " <tr>\\n<td class=\"cell resort\">\\n\\t\\t\\t\\t\\t\\t\\t\\t\\tSnowmass\\t\\t\\t\\t</td>\\n<td class=\"cell peak\">\\n\\t\\t\\t\\t\\t\\t\\t\\t\\t12,510'\\t\\t\\t\\t</td>\\n<td class=\"cell base\">\\n\\t\\t\\t\\t\\t\\t\\t\\t\\t8,104'\\t\\t\\t\\t</td>\\n<td class=\"cell vertical_rise\">\\n\\t\\t\\t\\t\\t\\t\\t\\t\\t4,406'\\t\\t\\t\\t</td>\\n<td class=\"cell 10_year_snowfall_avg\">\\n\\t\\t\\t\\t\\t\\t\\t\\t\\t300\\t\\t\\t\\t</td>\\n<td class=\"cell snow_making_acres\">\\n\\t\\t\\t\\t\\t\\t\\t\\t\\t256\\t\\t\\t\\t</td>\\n<td class=\"cell lifts\">\\n\\t\\t\\t\\t\\t\\t\\t\\t\\t20\\t\\t\\t\\t</td>\\n<td class=\"cell trails\">\\n\\t\\t\\t\\t\\t\\t\\t\\t\\t94\\t\\t\\t\\t</td>\\n<td class=\"cell skiable_acres\">\\n\\t\\t\\t\\t\\t\\t\\t\\t\\t3,332\\t\\t\\t\\t</td>\\n<td class=\"cell of_terrain_by_difficulty\">\\n\\t\\t\\t\\t\\t\\t\\t\\t\\t5/48/17/30\\t\\t\\t\\t</td>\\n<td class=\"cell bowl_skiing\">\\n\\t\\t\\t\\t\\t\\t\\t\\t\\tYes\\t\\t\\t\\t</td>\\n<td class=\"cell cat_heli_skiing\">\\n\\t\\t\\t\\t\\t\\t\\t\\t\\tNo\\t\\t\\t\\t</td>\\n</tr>,\n",
       " <tr>\\n<td class=\"cell alt resort\">\\n\\t\\t\\t\\t\\t\\t\\t\\t\\tGranby Ranch\\t\\t\\t\\t</td>\\n<td class=\"cell alt peak\">\\n\\t\\t\\t\\t\\t\\t\\t\\t\\t9,202'\\t\\t\\t\\t</td>\\n<td class=\"cell alt base\">\\n\\t\\t\\t\\t\\t\\t\\t\\t\\t8,202'\\t\\t\\t\\t</td>\\n<td class=\"cell alt vertical_rise\">\\n\\t\\t\\t\\t\\t\\t\\t\\t\\t1,000'\\t\\t\\t\\t</td>\\n<td class=\"cell alt 10_year_snowfall_avg\">\\n\\t\\t\\t\\t\\t\\t\\t\\t\\t220\\t\\t\\t\\t</td>\\n<td class=\"cell alt snow_making_acres\">\\n\\t\\t\\t\\t\\t\\t\\t\\t\\t245\\t\\t\\t\\t</td>\\n<td class=\"cell alt lifts\">\\n\\t\\t\\t\\t\\t\\t\\t\\t\\t6\\t\\t\\t\\t</td>\\n<td class=\"cell alt trails\">\\n\\t\\t\\t\\t\\t\\t\\t\\t\\t38\\t\\t\\t\\t</td>\\n<td class=\"cell alt skiable_acres\">\\n\\t\\t\\t\\t\\t\\t\\t\\t\\t406\\t\\t\\t\\t</td>\\n<td class=\"cell alt of_terrain_by_difficulty\">\\n\\t\\t\\t\\t\\t\\t\\t\\t\\t34/34/32\\t\\t\\t\\t</td>\\n<td class=\"cell alt bowl_skiing\">\\n\\t\\t\\t\\t\\t\\t\\t\\t\\tNo\\t\\t\\t\\t</td>\\n<td class=\"cell alt cat_heli_skiing\">\\n\\t\\t\\t\\t\\t\\t\\t\\t\\tNo\\t\\t\\t\\t</td>\\n</tr>,\n",
       " <tr>\\n<td class=\"cell resort\">\\n\\t\\t\\t\\t\\t\\t\\t\\t\\tSteamboat\\t\\t\\t\\t</td>\\n<td class=\"cell peak\">\\n\\t\\t\\t\\t\\t\\t\\t\\t\\t10,568'\\t\\t\\t\\t</td>\\n<td class=\"cell base\">\\n\\t\\t\\t\\t\\t\\t\\t\\t\\t6,900'\\t\\t\\t\\t</td>\\n<td class=\"cell vertical_rise\">\\n\\t\\t\\t\\t\\t\\t\\t\\t\\t3,668'\\t\\t\\t\\t</td>\\n<td class=\"cell 10_year_snowfall_avg\">\\n\\t\\t\\t\\t\\t\\t\\t\\t\\t349\\t\\t\\t\\t</td>\\n<td class=\"cell snow_making_acres\">\\n\\t\\t\\t\\t\\t\\t\\t\\t\\t375\\t\\t\\t\\t</td>\\n<td class=\"cell lifts\">\\n\\t\\t\\t\\t\\t\\t\\t\\t\\t16\\t\\t\\t\\t</td>\\n<td class=\"cell trails\">\\n\\t\\t\\t\\t\\t\\t\\t\\t\\t165\\t\\t\\t\\t</td>\\n<td class=\"cell skiable_acres\">\\n\\t\\t\\t\\t\\t\\t\\t\\t\\t2,965\\t\\t\\t\\t</td>\\n<td class=\"cell of_terrain_by_difficulty\">\\n\\t\\t\\t\\t\\t\\t\\t\\t\\t14/42/44\\t\\t\\t\\t</td>\\n<td class=\"cell bowl_skiing\">\\n\\t\\t\\t\\t\\t\\t\\t\\t\\tYes\\t\\t\\t\\t</td>\\n<td class=\"cell cat_heli_skiing\">\\n\\t\\t\\t\\t\\t\\t\\t\\t\\tYes\\t\\t\\t\\t</td>\\n</tr>,\n",
       " <tr>\\n<td class=\"cell alt resort\">\\n\\t\\t\\t\\t\\t\\t\\t\\t\\tSunlight\\t\\t\\t\\t</td>\\n<td class=\"cell alt peak\">\\n\\t\\t\\t\\t\\t\\t\\t\\t\\t9,895'\\t\\t\\t\\t</td>\\n<td class=\"cell alt base\">\\n\\t\\t\\t\\t\\t\\t\\t\\t\\t7,885'\\t\\t\\t\\t</td>\\n<td class=\"cell alt vertical_rise\">\\n\\t\\t\\t\\t\\t\\t\\t\\t\\t2,010'\\t\\t\\t\\t</td>\\n<td class=\"cell alt 10_year_snowfall_avg\">\\n\\t\\t\\t\\t\\t\\t\\t\\t\\t250\\t\\t\\t\\t</td>\\n<td class=\"cell alt snow_making_acres\">\\n\\t\\t\\t\\t\\t\\t\\t\\t\\t21\\t\\t\\t\\t</td>\\n<td class=\"cell alt lifts\">\\n\\t\\t\\t\\t\\t\\t\\t\\t\\t3\\t\\t\\t\\t</td>\\n<td class=\"cell alt trails\">\\n\\t\\t\\t\\t\\t\\t\\t\\t\\t67\\t\\t\\t\\t</td>\\n<td class=\"cell alt skiable_acres\">\\n\\t\\t\\t\\t\\t\\t\\t\\t\\t680\\t\\t\\t\\t</td>\\n<td class=\"cell alt of_terrain_by_difficulty\">\\n\\t\\t\\t\\t\\t\\t\\t\\t\\t20/55/20/5\\t\\t\\t\\t</td>\\n<td class=\"cell alt bowl_skiing\">\\n\\t\\t\\t\\t\\t\\t\\t\\t\\tNo\\t\\t\\t\\t</td>\\n<td class=\"cell alt cat_heli_skiing\">\\n\\t\\t\\t\\t\\t\\t\\t\\t\\tNo\\t\\t\\t\\t</td>\\n</tr>,\n",
       " <tr>\\n<td class=\"cell resort\">\\n\\t\\t\\t\\t\\t\\t\\t\\t\\tTelluride\\t\\t\\t\\t</td>\\n<td class=\"cell peak\">\\n\\t\\t\\t\\t\\t\\t\\t\\t\\t13,150'\\t\\t\\t\\t</td>\\n<td class=\"cell base\">\\n\\t\\t\\t\\t\\t\\t\\t\\t\\t8,725'\\t\\t\\t\\t</td>\\n<td class=\"cell vertical_rise\">\\n\\t\\t\\t\\t\\t\\t\\t\\t\\t4,425'\\t\\t\\t\\t</td>\\n<td class=\"cell 10_year_snowfall_avg\">\\n\\t\\t\\t\\t\\t\\t\\t\\t\\t309\\t\\t\\t\\t</td>\\n<td class=\"cell snow_making_acres\">\\n\\t\\t\\t\\t\\t\\t\\t\\t\\t220\\t\\t\\t\\t</td>\\n<td class=\"cell lifts\">\\n\\t\\t\\t\\t\\t\\t\\t\\t\\t18\\t\\t\\t\\t</td>\\n<td class=\"cell trails\">\\n\\t\\t\\t\\t\\t\\t\\t\\t\\t127\\t\\t\\t\\t</td>\\n<td class=\"cell skiable_acres\">\\n\\t\\t\\t\\t\\t\\t\\t\\t\\t2,000\\t\\t\\t\\t</td>\\n<td class=\"cell of_terrain_by_difficulty\">\\n\\t\\t\\t\\t\\t\\t\\t\\t\\t23/36/41\\t\\t\\t\\t</td>\\n<td class=\"cell bowl_skiing\">\\n\\t\\t\\t\\t\\t\\t\\t\\t\\tYes\\t\\t\\t\\t</td>\\n<td class=\"cell cat_heli_skiing\">\\n\\t\\t\\t\\t\\t\\t\\t\\t\\tYes\\t\\t\\t\\t</td>\\n</tr>,\n",
       " <tr>\\n<td class=\"cell alt resort\">\\n\\t\\t\\t\\t\\t\\t\\t\\t\\tWinter Park\\t\\t\\t\\t</td>\\n<td class=\"cell alt peak\">\\n\\t\\t\\t\\t\\t\\t\\t\\t\\t12,060'\\t\\t\\t\\t</td>\\n<td class=\"cell alt base\">\\n\\t\\t\\t\\t\\t\\t\\t\\t\\t9,000'\\t\\t\\t\\t</td>\\n<td class=\"cell alt vertical_rise\">\\n\\t\\t\\t\\t\\t\\t\\t\\t\\t3,060'\\t\\t\\t\\t</td>\\n<td class=\"cell alt 10_year_snowfall_avg\">\\n\\t\\t\\t\\t\\t\\t\\t\\t\\t348\\t\\t\\t\\t</td>\\n<td class=\"cell alt snow_making_acres\">\\n\\t\\t\\t\\t\\t\\t\\t\\t\\t313\\t\\t\\t\\t</td>\\n<td class=\"cell alt lifts\">\\n\\t\\t\\t\\t\\t\\t\\t\\t\\t25\\t\\t\\t\\t</td>\\n<td class=\"cell alt trails\">\\n\\t\\t\\t\\t\\t\\t\\t\\t\\t143\\t\\t\\t\\t</td>\\n<td class=\"cell alt skiable_acres\">\\n\\t\\t\\t\\t\\t\\t\\t\\t\\t3,081\\t\\t\\t\\t</td>\\n<td class=\"cell alt of_terrain_by_difficulty\">\\n\\t\\t\\t\\t\\t\\t\\t\\t\\t8/37/52/3\\t\\t\\t\\t</td>\\n<td class=\"cell alt bowl_skiing\">\\n\\t\\t\\t\\t\\t\\t\\t\\t\\tYes\\t\\t\\t\\t</td>\\n<td class=\"cell alt cat_heli_skiing\">\\n\\t\\t\\t\\t\\t\\t\\t\\t\\tYes\\t\\t\\t\\t</td>\\n</tr>,\n",
       " <tr>\\n<td class=\"cell resort\">\\n\\t\\t\\t\\t\\t\\t\\t\\t\\tWolf Creek\\t\\t\\t\\t</td>\\n<td class=\"cell peak\">\\n\\t\\t\\t\\t\\t\\t\\t\\t\\t11,904'\\t\\t\\t\\t</td>\\n<td class=\"cell base\">\\n\\t\\t\\t\\t\\t\\t\\t\\t\\t10,300'\\t\\t\\t\\t</td>\\n<td class=\"cell vertical_rise\">\\n\\t\\t\\t\\t\\t\\t\\t\\t\\t1,604'\\t\\t\\t\\t</td>\\n<td class=\"cell 10_year_snowfall_avg\">\\n\\t\\t\\t\\t\\t\\t\\t\\t\\t430\\t\\t\\t\\t</td>\\n<td class=\"cell snow_making_acres\">\\n\\t\\t\\t\\t\\t\\t\\t\\t\\t5\\t\\t\\t\\t</td>\\n<td class=\"cell lifts\">\\n\\t\\t\\t\\t\\t\\t\\t\\t\\t9\\t\\t\\t\\t</td>\\n<td class=\"cell trails\">\\n\\t\\t\\t\\t\\t\\t\\t\\t\\t77\\t\\t\\t\\t</td>\\n<td class=\"cell skiable_acres\">\\n\\t\\t\\t\\t\\t\\t\\t\\t\\t1,600\\t\\t\\t\\t</td>\\n<td class=\"cell of_terrain_by_difficulty\">\\n\\t\\t\\t\\t\\t\\t\\t\\t\\t20/35/25/20\\t\\t\\t\\t</td>\\n<td class=\"cell bowl_skiing\">\\n\\t\\t\\t\\t\\t\\t\\t\\t\\tYes\\t\\t\\t\\t</td>\\n<td class=\"cell cat_heli_skiing\">\\n\\t\\t\\t\\t\\t\\t\\t\\t\\tYes\\t\\t\\t\\t</td>\\n</tr>]"
      ]
     },
     "execution_count": 28,
     "metadata": {},
     "output_type": "execute_result"
    }
   ],
   "source": [
    "insoup.findAll('tr')"
   ]
  },
  {
   "cell_type": "code",
   "execution_count": 29,
   "metadata": {
    "collapsed": false
   },
   "outputs": [
    {
     "data": {
      "text/plain": [
       "[<th class=\"cell resort\">\\n<a href=\"/skier-statistics/sort:resort\">\\n\\t\\t\\t\\t\\t\\tResort\\t\\t\\t\\t\\t</a>\\n</th>,\n",
       " <th class=\"cell peak\">\\n<a href=\"/skier-statistics/sort:peak\">\\n\\t\\t\\t\\t\\t\\tPeak\\t\\t\\t\\t\\t</a>\\n</th>,\n",
       " <th class=\"cell base\">\\n<a href=\"/skier-statistics/sort:base\">\\n\\t\\t\\t\\t\\t\\tBase\\t\\t\\t\\t\\t</a>\\n</th>,\n",
       " <th class=\"cell vertical_rise\">\\n<a href=\"/skier-statistics/sort:vertical_rise\">\\n\\t\\t\\t\\t\\t\\tVertical Rise\\t\\t\\t\\t\\t</a>\\n</th>,\n",
       " <th class=\"cell 10_year_snowfall_avg\">\\n<a href=\"/skier-statistics/sort:10_year_snowfall_avg\">\\n\\t\\t\\t\\t\\t\\t10 Year Snowfall Avg.\\t\\t\\t\\t\\t</a>\\n</th>,\n",
       " <th class=\"cell snow_making_acres\">\\n<a href=\"/skier-statistics/sort:snow_making_acres\">\\n\\t\\t\\t\\t\\t\\tSnow Making Acres\\t\\t\\t\\t\\t</a>\\n</th>,\n",
       " <th class=\"cell lifts\">\\n<a href=\"/skier-statistics/sort:lifts\">\\n\\t\\t\\t\\t\\t\\tLifts\\t\\t\\t\\t\\t</a>\\n</th>,\n",
       " <th class=\"cell trails\">\\n<a href=\"/skier-statistics/sort:trails\">\\n\\t\\t\\t\\t\\t\\tTrails\\t\\t\\t\\t\\t</a>\\n</th>,\n",
       " <th class=\"cell skiable_acres\">\\n<a href=\"/skier-statistics/sort:skiable_acres\">\\n\\t\\t\\t\\t\\t\\tSkiable Acres\\t\\t\\t\\t\\t</a>\\n</th>,\n",
       " <th class=\"cell of_terrain_by_difficulty\">\\n<a href=\"/skier-statistics/sort:of_terrain_by_difficulty\">\\n\\t\\t\\t\\t\\t\\t% of terrain by difficulty\\t\\t\\t\\t\\t</a>\\n</th>,\n",
       " <th class=\"cell bowl_skiing\">\\n<a href=\"/skier-statistics/sort:bowl_skiing\">\\n\\t\\t\\t\\t\\t\\tBowl Skiing\\t\\t\\t\\t\\t</a>\\n</th>,\n",
       " <th class=\"cell cat_heli_skiing\">\\n<a href=\"/skier-statistics/sort:cat_heli_skiing\">\\n\\t\\t\\t\\t\\t\\tCat/Heli Skiing\\t\\t\\t\\t\\t</a>\\n</th>]"
      ]
     },
     "execution_count": 29,
     "metadata": {},
     "output_type": "execute_result"
    }
   ],
   "source": [
    "insoup.findAll('tr', limit=1)[0].findAll('th')"
   ]
  },
  {
   "cell_type": "code",
   "execution_count": 30,
   "metadata": {
    "collapsed": false
   },
   "outputs": [],
   "source": [
    "column_headers = [th.getText() for th in \n",
    "                  insoup.findAll('tr', limit=1)[0].findAll('th')]"
   ]
  },
  {
   "cell_type": "code",
   "execution_count": 31,
   "metadata": {
    "collapsed": false
   },
   "outputs": [
    {
     "data": {
      "text/plain": [
       "[u'\\n\\n\\t\\t\\t\\t\\t\\tResort\\t\\t\\t\\t\\t\\n',\n",
       " u'\\n\\n\\t\\t\\t\\t\\t\\tPeak\\t\\t\\t\\t\\t\\n',\n",
       " u'\\n\\n\\t\\t\\t\\t\\t\\tBase\\t\\t\\t\\t\\t\\n',\n",
       " u'\\n\\n\\t\\t\\t\\t\\t\\tVertical Rise\\t\\t\\t\\t\\t\\n',\n",
       " u'\\n\\n\\t\\t\\t\\t\\t\\t10 Year Snowfall Avg.\\t\\t\\t\\t\\t\\n',\n",
       " u'\\n\\n\\t\\t\\t\\t\\t\\tSnow Making Acres\\t\\t\\t\\t\\t\\n',\n",
       " u'\\n\\n\\t\\t\\t\\t\\t\\tLifts\\t\\t\\t\\t\\t\\n',\n",
       " u'\\n\\n\\t\\t\\t\\t\\t\\tTrails\\t\\t\\t\\t\\t\\n',\n",
       " u'\\n\\n\\t\\t\\t\\t\\t\\tSkiable Acres\\t\\t\\t\\t\\t\\n',\n",
       " u'\\n\\n\\t\\t\\t\\t\\t\\t% of terrain by difficulty\\t\\t\\t\\t\\t\\n',\n",
       " u'\\n\\n\\t\\t\\t\\t\\t\\tBowl Skiing\\t\\t\\t\\t\\t\\n',\n",
       " u'\\n\\n\\t\\t\\t\\t\\t\\tCat/Heli Skiing\\t\\t\\t\\t\\t\\n']"
      ]
     },
     "execution_count": 31,
     "metadata": {},
     "output_type": "execute_result"
    }
   ],
   "source": [
    "column_headers"
   ]
  },
  {
   "cell_type": "code",
   "execution_count": 32,
   "metadata": {
    "collapsed": false
   },
   "outputs": [],
   "source": [
    "data_rows = insoup.findAll('tr')[1:]"
   ]
  },
  {
   "cell_type": "code",
   "execution_count": 33,
   "metadata": {
    "collapsed": false
   },
   "outputs": [
    {
     "data": {
      "text/plain": [
       "list"
      ]
     },
     "execution_count": 33,
     "metadata": {},
     "output_type": "execute_result"
    }
   ],
   "source": [
    "type(data_rows)"
   ]
  },
  {
   "cell_type": "code",
   "execution_count": 34,
   "metadata": {
    "collapsed": true
   },
   "outputs": [],
   "source": [
    "mountain_data = [[td.getText() for td in data_rows[i].findAll('td')]\n",
    "            for i in range(len(data_rows))]"
   ]
  },
  {
   "cell_type": "code",
   "execution_count": 35,
   "metadata": {
    "collapsed": false
   },
   "outputs": [],
   "source": [
    "mountain_data2 = []  # create an empty list to hold all the data\n",
    "\n",
    "for i in range(len(data_rows)):  # for each table row\n",
    "    mountain_row = []  # create an empty list for each pick/player\n",
    "\n",
    "    # for each table data element from each table row\n",
    "    for td in data_rows[i].findAll('td'):        \n",
    "        # get the text content and append to the player_row \n",
    "        mountain_row.append(td.getText())        \n",
    "\n",
    "    # then append each pick/player to the player_data matrix\n",
    "    mountain_data2.append(mountain_row)"
   ]
  },
  {
   "cell_type": "code",
   "execution_count": 36,
   "metadata": {
    "collapsed": false
   },
   "outputs": [
    {
     "data": {
      "text/plain": [
       "True"
      ]
     },
     "execution_count": 36,
     "metadata": {},
     "output_type": "execute_result"
    }
   ],
   "source": [
    "mountain_data == mountain_data2"
   ]
  },
  {
   "cell_type": "code",
   "execution_count": 37,
   "metadata": {
    "collapsed": false
   },
   "outputs": [],
   "source": [
    "mf = pd.DataFrame(mountain_data, columns=column_headers)"
   ]
  },
  {
   "cell_type": "code",
   "execution_count": 38,
   "metadata": {
    "collapsed": false
   },
   "outputs": [],
   "source": [
    "mf.columns = ['Resort', 'Peak', 'Base',\n",
    " 'Vertical Rise',\n",
    " '10 Year Snowfall Avg.',\n",
    " 'Snow Making Acres',\n",
    " 'Lifts',\n",
    " 'Trails',\n",
    " 'Skiable Acres',\n",
    " '% of terrain by difficulty',\n",
    " 'Bowl Skiing',\n",
    " 'Cat/Heli Skiing']"
   ]
  },
  {
   "cell_type": "code",
   "execution_count": 39,
   "metadata": {
    "collapsed": false
   },
   "outputs": [],
   "source": [
    "mf = pd.DataFrame(mountain_data, columns=mf.columns)"
   ]
  },
  {
   "cell_type": "code",
   "execution_count": 40,
   "metadata": {
    "collapsed": false
   },
   "outputs": [
    {
     "data": {
      "text/html": [
       "<div>\n",
       "<table border=\"1\" class=\"dataframe\">\n",
       "  <thead>\n",
       "    <tr style=\"text-align: right;\">\n",
       "      <th></th>\n",
       "      <th>Resort</th>\n",
       "      <th>Peak</th>\n",
       "      <th>Base</th>\n",
       "      <th>Vertical Rise</th>\n",
       "      <th>10 Year Snowfall Avg.</th>\n",
       "      <th>Snow Making Acres</th>\n",
       "      <th>Lifts</th>\n",
       "      <th>Trails</th>\n",
       "      <th>Skiable Acres</th>\n",
       "      <th>% of terrain by difficulty</th>\n",
       "      <th>Bowl Skiing</th>\n",
       "      <th>Cat/Heli Skiing</th>\n",
       "    </tr>\n",
       "  </thead>\n",
       "  <tbody>\n",
       "    <tr>\n",
       "      <th>0</th>\n",
       "      <td>\\n\\t\\t\\t\\t\\t\\t\\t\\t\\tArapahoe Basin\\t\\t\\t\\t</td>\n",
       "      <td>\\n\\t\\t\\t\\t\\t\\t\\t\\t\\t13,050'\\t\\t\\t\\t</td>\n",
       "      <td>\\n\\t\\t\\t\\t\\t\\t\\t\\t\\t10,780'\\t\\t\\t\\t</td>\n",
       "      <td>\\n\\t\\t\\t\\t\\t\\t\\t\\t\\t2,270'\\t\\t\\t\\t</td>\n",
       "      <td>\\n\\t\\t\\t\\t\\t\\t\\t\\t\\t350\"\\t\\t\\t\\t</td>\n",
       "      <td>\\n\\t\\t\\t\\t\\t\\t\\t\\t\\t125\\t\\t\\t\\t</td>\n",
       "      <td>\\n\\t\\t\\t\\t\\t\\t\\t\\t\\t8\\t\\t\\t\\t</td>\n",
       "      <td>\\n\\t\\t\\t\\t\\t\\t\\t\\t\\t109\\t\\t\\t\\t</td>\n",
       "      <td>\\n\\t\\t\\t\\t\\t\\t\\t\\t\\t960\\t\\t\\t\\t</td>\n",
       "      <td>\\n\\t\\t\\t\\t\\t\\t\\t\\t\\t10/30/37/23\\t\\t\\t\\t</td>\n",
       "      <td>\\n\\t\\t\\t\\t\\t\\t\\t\\t\\tYes\\t\\t\\t\\t</td>\n",
       "      <td>\\n\\t\\t\\t\\t\\t\\t\\t\\t\\tNo\\t\\t\\t\\t</td>\n",
       "    </tr>\n",
       "    <tr>\n",
       "      <th>1</th>\n",
       "      <td>\\n\\t\\t\\t\\t\\t\\t\\t\\t\\tAspen Highlands\\t\\t\\t\\t</td>\n",
       "      <td>\\n\\t\\t\\t\\t\\t\\t\\t\\t\\t12,392'\\t\\t\\t\\t</td>\n",
       "      <td>\\n\\t\\t\\t\\t\\t\\t\\t\\t\\t8,040'\\t\\t\\t\\t</td>\n",
       "      <td>\\n\\t\\t\\t\\t\\t\\t\\t\\t\\t4,352'\\t\\t\\t\\t</td>\n",
       "      <td>\\n\\t\\t\\t\\t\\t\\t\\t\\t\\t300\\t\\t\\t\\t</td>\n",
       "      <td>\\n\\t\\t\\t\\t\\t\\t\\t\\t\\t121\\t\\t\\t\\t</td>\n",
       "      <td>\\n\\t\\t\\t\\t\\t\\t\\t\\t\\t5\\t\\t\\t\\t</td>\n",
       "      <td>\\n\\t\\t\\t\\t\\t\\t\\t\\t\\t122\\t\\t\\t\\t</td>\n",
       "      <td>\\n\\t\\t\\t\\t\\t\\t\\t\\t\\t1,040\\t\\t\\t\\t</td>\n",
       "      <td>\\n\\t\\t\\t\\t\\t\\t\\t\\t\\t18/30/16/36\\t\\t\\t\\t</td>\n",
       "      <td>\\n\\t\\t\\t\\t\\t\\t\\t\\t\\tYes\\t\\t\\t\\t</td>\n",
       "      <td>\\n\\t\\t\\t\\t\\t\\t\\t\\t\\tYes\\t\\t\\t\\t</td>\n",
       "    </tr>\n",
       "    <tr>\n",
       "      <th>2</th>\n",
       "      <td>\\n\\t\\t\\t\\t\\t\\t\\t\\t\\tAspen Mountain\\t\\t\\t\\t</td>\n",
       "      <td>\\n\\t\\t\\t\\t\\t\\t\\t\\t\\t11,212'\\t\\t\\t\\t</td>\n",
       "      <td>\\n\\t\\t\\t\\t\\t\\t\\t\\t\\t7,945'\\t\\t\\t\\t</td>\n",
       "      <td>\\n\\t\\t\\t\\t\\t\\t\\t\\t\\t3,267'\\t\\t\\t\\t</td>\n",
       "      <td>\\n\\t\\t\\t\\t\\t\\t\\t\\t\\t300\\t\\t\\t\\t</td>\n",
       "      <td>\\n\\t\\t\\t\\t\\t\\t\\t\\t\\t210\\t\\t\\t\\t</td>\n",
       "      <td>\\n\\t\\t\\t\\t\\t\\t\\t\\t\\t8\\t\\t\\t\\t</td>\n",
       "      <td>\\n\\t\\t\\t\\t\\t\\t\\t\\t\\t76\\t\\t\\t\\t</td>\n",
       "      <td>\\n\\t\\t\\t\\t\\t\\t\\t\\t\\t675\\t\\t\\t\\t</td>\n",
       "      <td>\\n\\t\\t\\t\\t\\t\\t\\t\\t\\t0/48/26/26\\t\\t\\t\\t</td>\n",
       "      <td>\\n\\t\\t\\t\\t\\t\\t\\t\\t\\tYes\\t\\t\\t\\t</td>\n",
       "      <td>\\n\\t\\t\\t\\t\\t\\t\\t\\t\\tYes\\t\\t\\t\\t</td>\n",
       "    </tr>\n",
       "    <tr>\n",
       "      <th>3</th>\n",
       "      <td>\\n\\t\\t\\t\\t\\t\\t\\t\\t\\tButtermilk\\t\\t\\t\\t</td>\n",
       "      <td>\\n\\t\\t\\t\\t\\t\\t\\t\\t\\t9,900'\\t\\t\\t\\t</td>\n",
       "      <td>\\n\\t\\t\\t\\t\\t\\t\\t\\t\\t7,870'\\t\\t\\t\\t</td>\n",
       "      <td>\\n\\t\\t\\t\\t\\t\\t\\t\\t\\t2,030'\\t\\t\\t\\t</td>\n",
       "      <td>\\n\\t\\t\\t\\t\\t\\t\\t\\t\\t200\\t\\t\\t\\t</td>\n",
       "      <td>\\n\\t\\t\\t\\t\\t\\t\\t\\t\\t108\\t\\t\\t\\t</td>\n",
       "      <td>\\n\\t\\t\\t\\t\\t\\t\\t\\t\\t8\\t\\t\\t\\t</td>\n",
       "      <td>\\n\\t\\t\\t\\t\\t\\t\\t\\t\\t44\\t\\t\\t\\t</td>\n",
       "      <td>\\n\\t\\t\\t\\t\\t\\t\\t\\t\\t470\\t\\t\\t\\t</td>\n",
       "      <td>\\n\\t\\t\\t\\t\\t\\t\\t\\t\\t35/39/21/5\\t\\t\\t\\t</td>\n",
       "      <td>\\n\\t\\t\\t\\t\\t\\t\\t\\t\\tNo\\t\\t\\t\\t</td>\n",
       "      <td>\\n\\t\\t\\t\\t\\t\\t\\t\\t\\tNo\\t\\t\\t\\t</td>\n",
       "    </tr>\n",
       "    <tr>\n",
       "      <th>4</th>\n",
       "      <td>\\n\\t\\t\\t\\t\\t\\t\\t\\t\\tCopper Mountain\\t\\t\\t\\t</td>\n",
       "      <td>\\n\\t\\t\\t\\t\\t\\t\\t\\t\\t12,313'\\t\\t\\t\\t</td>\n",
       "      <td>\\n\\t\\t\\t\\t\\t\\t\\t\\t\\t9,703'\\t\\t\\t\\t</td>\n",
       "      <td>\\n\\t\\t\\t\\t\\t\\t\\t\\t\\t2,601'\\t\\t\\t\\t</td>\n",
       "      <td>\\n\\t\\t\\t\\t\\t\\t\\t\\t\\t304\\t\\t\\t\\t</td>\n",
       "      <td>\\n\\t\\t\\t\\t\\t\\t\\t\\t\\t364\\t\\t\\t\\t</td>\n",
       "      <td>\\n\\t\\t\\t\\t\\t\\t\\t\\t\\t23\\t\\t\\t\\t</td>\n",
       "      <td>\\n\\t\\t\\t\\t\\t\\t\\t\\t\\t140\\t\\t\\t\\t</td>\n",
       "      <td>\\n\\t\\t\\t\\t\\t\\t\\t\\t\\t2,465\\t\\t\\t\\t</td>\n",
       "      <td>\\n\\t\\t\\t\\t\\t\\t\\t\\t\\t21/25/36/18\\t\\t\\t\\t</td>\n",
       "      <td>\\n\\t\\t\\t\\t\\t\\t\\t\\t\\tYes\\t\\t\\t\\t</td>\n",
       "      <td>\\n\\t\\t\\t\\t\\t\\t\\t\\t\\tYes\\t\\t\\t\\t</td>\n",
       "    </tr>\n",
       "  </tbody>\n",
       "</table>\n",
       "</div>"
      ],
      "text/plain": [
       "                                        Resort  \\\n",
       "0   \\n\\t\\t\\t\\t\\t\\t\\t\\t\\tArapahoe Basin\\t\\t\\t\\t   \n",
       "1  \\n\\t\\t\\t\\t\\t\\t\\t\\t\\tAspen Highlands\\t\\t\\t\\t   \n",
       "2   \\n\\t\\t\\t\\t\\t\\t\\t\\t\\tAspen Mountain\\t\\t\\t\\t   \n",
       "3       \\n\\t\\t\\t\\t\\t\\t\\t\\t\\tButtermilk\\t\\t\\t\\t   \n",
       "4  \\n\\t\\t\\t\\t\\t\\t\\t\\t\\tCopper Mountain\\t\\t\\t\\t   \n",
       "\n",
       "                                  Peak                                 Base  \\\n",
       "0  \\n\\t\\t\\t\\t\\t\\t\\t\\t\\t13,050'\\t\\t\\t\\t  \\n\\t\\t\\t\\t\\t\\t\\t\\t\\t10,780'\\t\\t\\t\\t   \n",
       "1  \\n\\t\\t\\t\\t\\t\\t\\t\\t\\t12,392'\\t\\t\\t\\t   \\n\\t\\t\\t\\t\\t\\t\\t\\t\\t8,040'\\t\\t\\t\\t   \n",
       "2  \\n\\t\\t\\t\\t\\t\\t\\t\\t\\t11,212'\\t\\t\\t\\t   \\n\\t\\t\\t\\t\\t\\t\\t\\t\\t7,945'\\t\\t\\t\\t   \n",
       "3   \\n\\t\\t\\t\\t\\t\\t\\t\\t\\t9,900'\\t\\t\\t\\t   \\n\\t\\t\\t\\t\\t\\t\\t\\t\\t7,870'\\t\\t\\t\\t   \n",
       "4  \\n\\t\\t\\t\\t\\t\\t\\t\\t\\t12,313'\\t\\t\\t\\t   \\n\\t\\t\\t\\t\\t\\t\\t\\t\\t9,703'\\t\\t\\t\\t   \n",
       "\n",
       "                        Vertical Rise             10 Year Snowfall Avg.  \\\n",
       "0  \\n\\t\\t\\t\\t\\t\\t\\t\\t\\t2,270'\\t\\t\\t\\t  \\n\\t\\t\\t\\t\\t\\t\\t\\t\\t350\"\\t\\t\\t\\t   \n",
       "1  \\n\\t\\t\\t\\t\\t\\t\\t\\t\\t4,352'\\t\\t\\t\\t   \\n\\t\\t\\t\\t\\t\\t\\t\\t\\t300\\t\\t\\t\\t   \n",
       "2  \\n\\t\\t\\t\\t\\t\\t\\t\\t\\t3,267'\\t\\t\\t\\t   \\n\\t\\t\\t\\t\\t\\t\\t\\t\\t300\\t\\t\\t\\t   \n",
       "3  \\n\\t\\t\\t\\t\\t\\t\\t\\t\\t2,030'\\t\\t\\t\\t   \\n\\t\\t\\t\\t\\t\\t\\t\\t\\t200\\t\\t\\t\\t   \n",
       "4  \\n\\t\\t\\t\\t\\t\\t\\t\\t\\t2,601'\\t\\t\\t\\t   \\n\\t\\t\\t\\t\\t\\t\\t\\t\\t304\\t\\t\\t\\t   \n",
       "\n",
       "                 Snow Making Acres                           Lifts  \\\n",
       "0  \\n\\t\\t\\t\\t\\t\\t\\t\\t\\t125\\t\\t\\t\\t   \\n\\t\\t\\t\\t\\t\\t\\t\\t\\t8\\t\\t\\t\\t   \n",
       "1  \\n\\t\\t\\t\\t\\t\\t\\t\\t\\t121\\t\\t\\t\\t   \\n\\t\\t\\t\\t\\t\\t\\t\\t\\t5\\t\\t\\t\\t   \n",
       "2  \\n\\t\\t\\t\\t\\t\\t\\t\\t\\t210\\t\\t\\t\\t   \\n\\t\\t\\t\\t\\t\\t\\t\\t\\t8\\t\\t\\t\\t   \n",
       "3  \\n\\t\\t\\t\\t\\t\\t\\t\\t\\t108\\t\\t\\t\\t   \\n\\t\\t\\t\\t\\t\\t\\t\\t\\t8\\t\\t\\t\\t   \n",
       "4  \\n\\t\\t\\t\\t\\t\\t\\t\\t\\t364\\t\\t\\t\\t  \\n\\t\\t\\t\\t\\t\\t\\t\\t\\t23\\t\\t\\t\\t   \n",
       "\n",
       "                            Trails                      Skiable Acres  \\\n",
       "0  \\n\\t\\t\\t\\t\\t\\t\\t\\t\\t109\\t\\t\\t\\t    \\n\\t\\t\\t\\t\\t\\t\\t\\t\\t960\\t\\t\\t\\t   \n",
       "1  \\n\\t\\t\\t\\t\\t\\t\\t\\t\\t122\\t\\t\\t\\t  \\n\\t\\t\\t\\t\\t\\t\\t\\t\\t1,040\\t\\t\\t\\t   \n",
       "2   \\n\\t\\t\\t\\t\\t\\t\\t\\t\\t76\\t\\t\\t\\t    \\n\\t\\t\\t\\t\\t\\t\\t\\t\\t675\\t\\t\\t\\t   \n",
       "3   \\n\\t\\t\\t\\t\\t\\t\\t\\t\\t44\\t\\t\\t\\t    \\n\\t\\t\\t\\t\\t\\t\\t\\t\\t470\\t\\t\\t\\t   \n",
       "4  \\n\\t\\t\\t\\t\\t\\t\\t\\t\\t140\\t\\t\\t\\t  \\n\\t\\t\\t\\t\\t\\t\\t\\t\\t2,465\\t\\t\\t\\t   \n",
       "\n",
       "                % of terrain by difficulty                      Bowl Skiing  \\\n",
       "0  \\n\\t\\t\\t\\t\\t\\t\\t\\t\\t10/30/37/23\\t\\t\\t\\t  \\n\\t\\t\\t\\t\\t\\t\\t\\t\\tYes\\t\\t\\t\\t   \n",
       "1  \\n\\t\\t\\t\\t\\t\\t\\t\\t\\t18/30/16/36\\t\\t\\t\\t  \\n\\t\\t\\t\\t\\t\\t\\t\\t\\tYes\\t\\t\\t\\t   \n",
       "2   \\n\\t\\t\\t\\t\\t\\t\\t\\t\\t0/48/26/26\\t\\t\\t\\t  \\n\\t\\t\\t\\t\\t\\t\\t\\t\\tYes\\t\\t\\t\\t   \n",
       "3   \\n\\t\\t\\t\\t\\t\\t\\t\\t\\t35/39/21/5\\t\\t\\t\\t   \\n\\t\\t\\t\\t\\t\\t\\t\\t\\tNo\\t\\t\\t\\t   \n",
       "4  \\n\\t\\t\\t\\t\\t\\t\\t\\t\\t21/25/36/18\\t\\t\\t\\t  \\n\\t\\t\\t\\t\\t\\t\\t\\t\\tYes\\t\\t\\t\\t   \n",
       "\n",
       "                   Cat/Heli Skiing  \n",
       "0   \\n\\t\\t\\t\\t\\t\\t\\t\\t\\tNo\\t\\t\\t\\t  \n",
       "1  \\n\\t\\t\\t\\t\\t\\t\\t\\t\\tYes\\t\\t\\t\\t  \n",
       "2  \\n\\t\\t\\t\\t\\t\\t\\t\\t\\tYes\\t\\t\\t\\t  \n",
       "3   \\n\\t\\t\\t\\t\\t\\t\\t\\t\\tNo\\t\\t\\t\\t  \n",
       "4  \\n\\t\\t\\t\\t\\t\\t\\t\\t\\tYes\\t\\t\\t\\t  "
      ]
     },
     "execution_count": 40,
     "metadata": {},
     "output_type": "execute_result"
    }
   ],
   "source": [
    "mf.head()"
   ]
  },
  {
   "cell_type": "code",
   "execution_count": 41,
   "metadata": {
    "collapsed": false
   },
   "outputs": [],
   "source": [
    "mf['Resort'] = mf['Resort'].map(lambda x: x.lstrip('\\n\\t\\t\\t\\t\\t\\t\\t\\t\\t').rstrip('\\t\\t\\t\\t'))"
   ]
  },
  {
   "cell_type": "code",
   "execution_count": 42,
   "metadata": {
    "collapsed": false
   },
   "outputs": [],
   "source": [
    "mf['Peak'] = mf['Peak'].map(lambda x: x.lstrip('\\n\\t\\t\\t\\t\\t\\t\\t\\t\\t').rstrip('\\t\\t\\t\\t'))"
   ]
  },
  {
   "cell_type": "code",
   "execution_count": 43,
   "metadata": {
    "collapsed": true
   },
   "outputs": [],
   "source": [
    "mf['Base'] = mf['Base'].map(lambda x: x.lstrip('\\n\\t\\t\\t\\t\\t\\t\\t\\t\\t').rstrip('\\t\\t\\t\\t'))"
   ]
  },
  {
   "cell_type": "code",
   "execution_count": 44,
   "metadata": {
    "collapsed": true
   },
   "outputs": [],
   "source": [
    "mf['Vertical Rise'] = mf['Vertical Rise'].map(lambda x: x.lstrip('\\n\\t\\t\\t\\t\\t\\t\\t\\t\\t').rstrip('\\t\\t\\t\\t'))"
   ]
  },
  {
   "cell_type": "code",
   "execution_count": 45,
   "metadata": {
    "collapsed": true
   },
   "outputs": [],
   "source": [
    "mf['10 Year Snowfall Avg.'] = mf['10 Year Snowfall Avg.'].map(lambda x: x.lstrip('\\n\\t\\t\\t\\t\\t\\t\\t\\t\\t').rstrip('\\t\\t\\t\\t'))"
   ]
  },
  {
   "cell_type": "code",
   "execution_count": 46,
   "metadata": {
    "collapsed": true
   },
   "outputs": [],
   "source": [
    "mf['Snow Making Acres'] = mf['Snow Making Acres'].map(lambda x: x.lstrip('\\n\\t\\t\\t\\t\\t\\t\\t\\t\\t').rstrip('\\t\\t\\t\\t'))"
   ]
  },
  {
   "cell_type": "code",
   "execution_count": 47,
   "metadata": {
    "collapsed": true
   },
   "outputs": [],
   "source": [
    "mf['Lifts'] = mf['Lifts'].map(lambda x: x.lstrip('\\n\\t\\t\\t\\t\\t\\t\\t\\t\\t').rstrip('\\t\\t\\t\\t'))"
   ]
  },
  {
   "cell_type": "code",
   "execution_count": 48,
   "metadata": {
    "collapsed": true
   },
   "outputs": [],
   "source": [
    "mf['Trails'] = mf['Trails'].map(lambda x: x.lstrip('\\n\\t\\t\\t\\t\\t\\t\\t\\t\\t').rstrip('\\t\\t\\t\\t'))"
   ]
  },
  {
   "cell_type": "code",
   "execution_count": 49,
   "metadata": {
    "collapsed": true
   },
   "outputs": [],
   "source": [
    "mf['Skiable Acres'] = mf['Skiable Acres'].map(lambda x: x.lstrip('\\n\\t\\t\\t\\t\\t\\t\\t\\t\\t').rstrip('\\t\\t\\t\\t'))"
   ]
  },
  {
   "cell_type": "code",
   "execution_count": 50,
   "metadata": {
    "collapsed": true
   },
   "outputs": [],
   "source": [
    "mf['% of terrain by difficulty'] = mf['% of terrain by difficulty'].map(lambda x: x.lstrip('\\n\\t\\t\\t\\t\\t\\t\\t\\t\\t').rstrip('\\t\\t\\t\\t'))"
   ]
  },
  {
   "cell_type": "code",
   "execution_count": 51,
   "metadata": {
    "collapsed": true
   },
   "outputs": [],
   "source": [
    "mf['Bowl Skiing'] = mf['Bowl Skiing'].map(lambda x: x.lstrip('\\n\\t\\t\\t\\t\\t\\t\\t\\t\\t').rstrip('\\t\\t\\t\\t'))"
   ]
  },
  {
   "cell_type": "code",
   "execution_count": 52,
   "metadata": {
    "collapsed": false
   },
   "outputs": [],
   "source": [
    "mf['Cat/Heli Skiing'] = mf['Cat/Heli Skiing'].map(lambda x: x.lstrip('\\n\\t\\t\\t\\t\\t\\t\\t\\t\\t').rstrip('\\t\\t\\t\\t'))"
   ]
  },
  {
   "cell_type": "code",
   "execution_count": 53,
   "metadata": {
    "collapsed": false
   },
   "outputs": [
    {
     "data": {
      "text/plain": [
       "Index([u'Resort', u'Peak', u'Base', u'Vertical Rise', u'10 Year Snowfall Avg.',\n",
       "       u'Snow Making Acres', u'Lifts', u'Trails', u'Skiable Acres',\n",
       "       u'% of terrain by difficulty', u'Bowl Skiing', u'Cat/Heli Skiing'],\n",
       "      dtype='object')"
      ]
     },
     "execution_count": 53,
     "metadata": {},
     "output_type": "execute_result"
    }
   ],
   "source": [
    "mf.columns"
   ]
  },
  {
   "cell_type": "code",
   "execution_count": 54,
   "metadata": {
    "collapsed": false
   },
   "outputs": [
    {
     "data": {
      "text/html": [
       "<div>\n",
       "<table border=\"1\" class=\"dataframe\">\n",
       "  <thead>\n",
       "    <tr style=\"text-align: right;\">\n",
       "      <th></th>\n",
       "      <th>Resort</th>\n",
       "      <th>Peak</th>\n",
       "      <th>Base</th>\n",
       "      <th>Vertical Rise</th>\n",
       "      <th>10 Year Snowfall Avg.</th>\n",
       "      <th>Snow Making Acres</th>\n",
       "      <th>Lifts</th>\n",
       "      <th>Trails</th>\n",
       "      <th>Skiable Acres</th>\n",
       "      <th>% of terrain by difficulty</th>\n",
       "      <th>Bowl Skiing</th>\n",
       "      <th>Cat/Heli Skiing</th>\n",
       "    </tr>\n",
       "  </thead>\n",
       "  <tbody>\n",
       "    <tr>\n",
       "      <th>0</th>\n",
       "      <td>Arapahoe Basin</td>\n",
       "      <td>13,050'</td>\n",
       "      <td>10,780'</td>\n",
       "      <td>2,270'</td>\n",
       "      <td>350\"</td>\n",
       "      <td>125</td>\n",
       "      <td>8</td>\n",
       "      <td>109</td>\n",
       "      <td>960</td>\n",
       "      <td>10/30/37/23</td>\n",
       "      <td>Yes</td>\n",
       "      <td>No</td>\n",
       "    </tr>\n",
       "    <tr>\n",
       "      <th>1</th>\n",
       "      <td>Aspen Highlands</td>\n",
       "      <td>12,392'</td>\n",
       "      <td>8,040'</td>\n",
       "      <td>4,352'</td>\n",
       "      <td>300</td>\n",
       "      <td>121</td>\n",
       "      <td>5</td>\n",
       "      <td>122</td>\n",
       "      <td>1,040</td>\n",
       "      <td>18/30/16/36</td>\n",
       "      <td>Yes</td>\n",
       "      <td>Yes</td>\n",
       "    </tr>\n",
       "    <tr>\n",
       "      <th>2</th>\n",
       "      <td>Aspen Mountain</td>\n",
       "      <td>11,212'</td>\n",
       "      <td>7,945'</td>\n",
       "      <td>3,267'</td>\n",
       "      <td>300</td>\n",
       "      <td>210</td>\n",
       "      <td>8</td>\n",
       "      <td>76</td>\n",
       "      <td>675</td>\n",
       "      <td>0/48/26/26</td>\n",
       "      <td>Yes</td>\n",
       "      <td>Yes</td>\n",
       "    </tr>\n",
       "    <tr>\n",
       "      <th>3</th>\n",
       "      <td>Buttermilk</td>\n",
       "      <td>9,900'</td>\n",
       "      <td>7,870'</td>\n",
       "      <td>2,030'</td>\n",
       "      <td>200</td>\n",
       "      <td>108</td>\n",
       "      <td>8</td>\n",
       "      <td>44</td>\n",
       "      <td>470</td>\n",
       "      <td>35/39/21/5</td>\n",
       "      <td>No</td>\n",
       "      <td>No</td>\n",
       "    </tr>\n",
       "    <tr>\n",
       "      <th>4</th>\n",
       "      <td>Copper Mountain</td>\n",
       "      <td>12,313'</td>\n",
       "      <td>9,703'</td>\n",
       "      <td>2,601'</td>\n",
       "      <td>304</td>\n",
       "      <td>364</td>\n",
       "      <td>23</td>\n",
       "      <td>140</td>\n",
       "      <td>2,465</td>\n",
       "      <td>21/25/36/18</td>\n",
       "      <td>Yes</td>\n",
       "      <td>Yes</td>\n",
       "    </tr>\n",
       "  </tbody>\n",
       "</table>\n",
       "</div>"
      ],
      "text/plain": [
       "            Resort     Peak     Base Vertical Rise 10 Year Snowfall Avg.  \\\n",
       "0   Arapahoe Basin  13,050'  10,780'        2,270'                  350\"   \n",
       "1  Aspen Highlands  12,392'   8,040'        4,352'                   300   \n",
       "2   Aspen Mountain  11,212'   7,945'        3,267'                   300   \n",
       "3       Buttermilk   9,900'   7,870'        2,030'                   200   \n",
       "4  Copper Mountain  12,313'   9,703'        2,601'                   304   \n",
       "\n",
       "  Snow Making Acres Lifts Trails Skiable Acres % of terrain by difficulty  \\\n",
       "0               125     8    109           960                10/30/37/23   \n",
       "1               121     5    122         1,040                18/30/16/36   \n",
       "2               210     8     76           675                 0/48/26/26   \n",
       "3               108     8     44           470                 35/39/21/5   \n",
       "4               364    23    140         2,465                21/25/36/18   \n",
       "\n",
       "  Bowl Skiing Cat/Heli Skiing  \n",
       "0         Yes              No  \n",
       "1         Yes             Yes  \n",
       "2         Yes             Yes  \n",
       "3          No              No  \n",
       "4         Yes             Yes  "
      ]
     },
     "execution_count": 54,
     "metadata": {},
     "output_type": "execute_result"
    }
   ],
   "source": [
    "mf.head()"
   ]
  },
  {
   "cell_type": "code",
   "execution_count": 55,
   "metadata": {
    "collapsed": false
   },
   "outputs": [
    {
     "name": "stderr",
     "output_type": "stream",
     "text": [
      "/Applications/anaconda/lib/python2.7/site-packages/ipykernel/__main__.py:1: FutureWarning: the return_type='frame' keyword is deprecated, use expand=True instead\n",
      "  if __name__ == '__main__':\n"
     ]
    }
   ],
   "source": [
    "nf = mf['% of terrain by difficulty'].str.split('/', return_type='frame')"
   ]
  },
  {
   "cell_type": "code",
   "execution_count": 56,
   "metadata": {
    "collapsed": false
   },
   "outputs": [],
   "source": [
    "nf.columns = ['% Terrain Greens', '% Terrain Blues', '% Terrain Blacks', '% Terrain Double Blacks']"
   ]
  },
  {
   "cell_type": "code",
   "execution_count": 62,
   "metadata": {
    "collapsed": false
   },
   "outputs": [
    {
     "data": {
      "text/html": [
       "<div>\n",
       "<table border=\"1\" class=\"dataframe\">\n",
       "  <thead>\n",
       "    <tr style=\"text-align: right;\">\n",
       "      <th></th>\n",
       "      <th>% Terrain Greens</th>\n",
       "      <th>% Terrain Blues</th>\n",
       "      <th>% Terrain Blacks</th>\n",
       "      <th>% Terrain Double Blacks</th>\n",
       "    </tr>\n",
       "  </thead>\n",
       "  <tbody>\n",
       "    <tr>\n",
       "      <th>0</th>\n",
       "      <td>10</td>\n",
       "      <td>30</td>\n",
       "      <td>37</td>\n",
       "      <td>23</td>\n",
       "    </tr>\n",
       "    <tr>\n",
       "      <th>1</th>\n",
       "      <td>18</td>\n",
       "      <td>30</td>\n",
       "      <td>16</td>\n",
       "      <td>36</td>\n",
       "    </tr>\n",
       "    <tr>\n",
       "      <th>2</th>\n",
       "      <td>0</td>\n",
       "      <td>48</td>\n",
       "      <td>26</td>\n",
       "      <td>26</td>\n",
       "    </tr>\n",
       "    <tr>\n",
       "      <th>3</th>\n",
       "      <td>35</td>\n",
       "      <td>39</td>\n",
       "      <td>21</td>\n",
       "      <td>5</td>\n",
       "    </tr>\n",
       "    <tr>\n",
       "      <th>4</th>\n",
       "      <td>21</td>\n",
       "      <td>25</td>\n",
       "      <td>36</td>\n",
       "      <td>18</td>\n",
       "    </tr>\n",
       "  </tbody>\n",
       "</table>\n",
       "</div>"
      ],
      "text/plain": [
       "  % Terrain Greens % Terrain Blues % Terrain Blacks % Terrain Double Blacks\n",
       "0               10              30               37                      23\n",
       "1               18              30               16                      36\n",
       "2                0              48               26                      26\n",
       "3               35              39               21                       5\n",
       "4               21              25               36                      18"
      ]
     },
     "execution_count": 62,
     "metadata": {},
     "output_type": "execute_result"
    }
   ],
   "source": [
    "nf.head()"
   ]
  },
  {
   "cell_type": "code",
   "execution_count": 58,
   "metadata": {
    "collapsed": false
   },
   "outputs": [],
   "source": [
    "mf = pd.concat([mf,nf], axis=1)"
   ]
  },
  {
   "cell_type": "code",
   "execution_count": 70,
   "metadata": {
    "collapsed": false
   },
   "outputs": [],
   "source": [
    "mf = mf [['Resort', 'Vertical Rise', '10 Year Snowfall Avg.', 'Lifts', 'Trails','Skiable Acres',\\\n",
    "   '% Terrain Greens', '% Terrain Blues','% Terrain Blacks','% Terrain Double Blacks',\\\n",
    "   'Bowl Skiing','Cat/Heli Skiing']]"
   ]
  },
  {
   "cell_type": "code",
   "execution_count": 71,
   "metadata": {
    "collapsed": false
   },
   "outputs": [
    {
     "data": {
      "text/html": [
       "<div>\n",
       "<table border=\"1\" class=\"dataframe\">\n",
       "  <thead>\n",
       "    <tr style=\"text-align: right;\">\n",
       "      <th></th>\n",
       "      <th>Resort</th>\n",
       "      <th>Vertical Rise</th>\n",
       "      <th>10 Year Snowfall Avg.</th>\n",
       "      <th>Lifts</th>\n",
       "      <th>Trails</th>\n",
       "      <th>Skiable Acres</th>\n",
       "      <th>% Terrain Greens</th>\n",
       "      <th>% Terrain Blues</th>\n",
       "      <th>% Terrain Blacks</th>\n",
       "      <th>% Terrain Double Blacks</th>\n",
       "      <th>Bowl Skiing</th>\n",
       "      <th>Cat/Heli Skiing</th>\n",
       "    </tr>\n",
       "  </thead>\n",
       "  <tbody>\n",
       "    <tr>\n",
       "      <th>0</th>\n",
       "      <td>Arapahoe Basin</td>\n",
       "      <td>2,270'</td>\n",
       "      <td>350\"</td>\n",
       "      <td>8</td>\n",
       "      <td>109</td>\n",
       "      <td>960</td>\n",
       "      <td>10</td>\n",
       "      <td>30</td>\n",
       "      <td>37</td>\n",
       "      <td>23</td>\n",
       "      <td>Yes</td>\n",
       "      <td>No</td>\n",
       "    </tr>\n",
       "    <tr>\n",
       "      <th>1</th>\n",
       "      <td>Aspen Highlands</td>\n",
       "      <td>4,352'</td>\n",
       "      <td>300</td>\n",
       "      <td>5</td>\n",
       "      <td>122</td>\n",
       "      <td>1,040</td>\n",
       "      <td>18</td>\n",
       "      <td>30</td>\n",
       "      <td>16</td>\n",
       "      <td>36</td>\n",
       "      <td>Yes</td>\n",
       "      <td>Yes</td>\n",
       "    </tr>\n",
       "    <tr>\n",
       "      <th>2</th>\n",
       "      <td>Aspen Mountain</td>\n",
       "      <td>3,267'</td>\n",
       "      <td>300</td>\n",
       "      <td>8</td>\n",
       "      <td>76</td>\n",
       "      <td>675</td>\n",
       "      <td>0</td>\n",
       "      <td>48</td>\n",
       "      <td>26</td>\n",
       "      <td>26</td>\n",
       "      <td>Yes</td>\n",
       "      <td>Yes</td>\n",
       "    </tr>\n",
       "    <tr>\n",
       "      <th>3</th>\n",
       "      <td>Buttermilk</td>\n",
       "      <td>2,030'</td>\n",
       "      <td>200</td>\n",
       "      <td>8</td>\n",
       "      <td>44</td>\n",
       "      <td>470</td>\n",
       "      <td>35</td>\n",
       "      <td>39</td>\n",
       "      <td>21</td>\n",
       "      <td>5</td>\n",
       "      <td>No</td>\n",
       "      <td>No</td>\n",
       "    </tr>\n",
       "    <tr>\n",
       "      <th>4</th>\n",
       "      <td>Copper Mountain</td>\n",
       "      <td>2,601'</td>\n",
       "      <td>304</td>\n",
       "      <td>23</td>\n",
       "      <td>140</td>\n",
       "      <td>2,465</td>\n",
       "      <td>21</td>\n",
       "      <td>25</td>\n",
       "      <td>36</td>\n",
       "      <td>18</td>\n",
       "      <td>Yes</td>\n",
       "      <td>Yes</td>\n",
       "    </tr>\n",
       "    <tr>\n",
       "      <th>5</th>\n",
       "      <td>Crested Butte</td>\n",
       "      <td>3,062'</td>\n",
       "      <td>300</td>\n",
       "      <td>15</td>\n",
       "      <td>121</td>\n",
       "      <td>1,547</td>\n",
       "      <td>21</td>\n",
       "      <td>57</td>\n",
       "      <td>16</td>\n",
       "      <td>None</td>\n",
       "      <td>Yes</td>\n",
       "      <td>Yes</td>\n",
       "    </tr>\n",
       "    <tr>\n",
       "      <th>6</th>\n",
       "      <td>Eldora</td>\n",
       "      <td>1,600'</td>\n",
       "      <td>300</td>\n",
       "      <td>11</td>\n",
       "      <td>53</td>\n",
       "      <td>680</td>\n",
       "      <td>20</td>\n",
       "      <td>50</td>\n",
       "      <td>15</td>\n",
       "      <td>15</td>\n",
       "      <td>Yes</td>\n",
       "      <td>No</td>\n",
       "    </tr>\n",
       "    <tr>\n",
       "      <th>7</th>\n",
       "      <td>Howelsen</td>\n",
       "      <td>440'</td>\n",
       "      <td>150</td>\n",
       "      <td>4</td>\n",
       "      <td>17</td>\n",
       "      <td>50</td>\n",
       "      <td>25</td>\n",
       "      <td>20</td>\n",
       "      <td>55</td>\n",
       "      <td>0</td>\n",
       "      <td>No</td>\n",
       "      <td>No</td>\n",
       "    </tr>\n",
       "    <tr>\n",
       "      <th>8</th>\n",
       "      <td>Loveland</td>\n",
       "      <td>2,210'</td>\n",
       "      <td>422</td>\n",
       "      <td>10</td>\n",
       "      <td>93</td>\n",
       "      <td>1,800</td>\n",
       "      <td>13</td>\n",
       "      <td>41</td>\n",
       "      <td>22</td>\n",
       "      <td>24</td>\n",
       "      <td>Yes</td>\n",
       "      <td>Yes</td>\n",
       "    </tr>\n",
       "    <tr>\n",
       "      <th>9</th>\n",
       "      <td>Monarch</td>\n",
       "      <td>1,162'</td>\n",
       "      <td>350</td>\n",
       "      <td>8</td>\n",
       "      <td>54</td>\n",
       "      <td>800</td>\n",
       "      <td>26</td>\n",
       "      <td>31</td>\n",
       "      <td>43</td>\n",
       "      <td>None</td>\n",
       "      <td>Yes</td>\n",
       "      <td>Yes</td>\n",
       "    </tr>\n",
       "    <tr>\n",
       "      <th>10</th>\n",
       "      <td>Powderhorn</td>\n",
       "      <td>1,650'</td>\n",
       "      <td>250</td>\n",
       "      <td>5</td>\n",
       "      <td>63</td>\n",
       "      <td>1,600</td>\n",
       "      <td>20</td>\n",
       "      <td>50</td>\n",
       "      <td>30</td>\n",
       "      <td>None</td>\n",
       "      <td>No</td>\n",
       "      <td>No</td>\n",
       "    </tr>\n",
       "    <tr>\n",
       "      <th>11</th>\n",
       "      <td>Purgatory at DMR</td>\n",
       "      <td>2,029'</td>\n",
       "      <td>260</td>\n",
       "      <td>11</td>\n",
       "      <td>92</td>\n",
       "      <td>1,525</td>\n",
       "      <td>20</td>\n",
       "      <td>45</td>\n",
       "      <td>35</td>\n",
       "      <td>None</td>\n",
       "      <td>No</td>\n",
       "      <td>Yes</td>\n",
       "    </tr>\n",
       "    <tr>\n",
       "      <th>12</th>\n",
       "      <td>Silverton</td>\n",
       "      <td>3,087'</td>\n",
       "      <td>400</td>\n",
       "      <td>1</td>\n",
       "      <td>69</td>\n",
       "      <td>1,819</td>\n",
       "      <td>0</td>\n",
       "      <td>0</td>\n",
       "      <td>0</td>\n",
       "      <td>100</td>\n",
       "      <td>Yes</td>\n",
       "      <td>Yes</td>\n",
       "    </tr>\n",
       "    <tr>\n",
       "      <th>13</th>\n",
       "      <td>Cooper</td>\n",
       "      <td>1,200'</td>\n",
       "      <td>250</td>\n",
       "      <td>4</td>\n",
       "      <td>26</td>\n",
       "      <td>400</td>\n",
       "      <td>30</td>\n",
       "      <td>40</td>\n",
       "      <td>30</td>\n",
       "      <td>None</td>\n",
       "      <td>Yes</td>\n",
       "      <td>Yes</td>\n",
       "    </tr>\n",
       "    <tr>\n",
       "      <th>14</th>\n",
       "      <td>Snowmass</td>\n",
       "      <td>4,406'</td>\n",
       "      <td>300</td>\n",
       "      <td>20</td>\n",
       "      <td>94</td>\n",
       "      <td>3,332</td>\n",
       "      <td>5</td>\n",
       "      <td>48</td>\n",
       "      <td>17</td>\n",
       "      <td>30</td>\n",
       "      <td>Yes</td>\n",
       "      <td>No</td>\n",
       "    </tr>\n",
       "    <tr>\n",
       "      <th>15</th>\n",
       "      <td>Granby Ranch</td>\n",
       "      <td>1,000'</td>\n",
       "      <td>220</td>\n",
       "      <td>6</td>\n",
       "      <td>38</td>\n",
       "      <td>406</td>\n",
       "      <td>34</td>\n",
       "      <td>34</td>\n",
       "      <td>32</td>\n",
       "      <td>None</td>\n",
       "      <td>No</td>\n",
       "      <td>No</td>\n",
       "    </tr>\n",
       "    <tr>\n",
       "      <th>16</th>\n",
       "      <td>Steamboat</td>\n",
       "      <td>3,668'</td>\n",
       "      <td>349</td>\n",
       "      <td>16</td>\n",
       "      <td>165</td>\n",
       "      <td>2,965</td>\n",
       "      <td>14</td>\n",
       "      <td>42</td>\n",
       "      <td>44</td>\n",
       "      <td>None</td>\n",
       "      <td>Yes</td>\n",
       "      <td>Yes</td>\n",
       "    </tr>\n",
       "    <tr>\n",
       "      <th>17</th>\n",
       "      <td>Sunlight</td>\n",
       "      <td>2,010'</td>\n",
       "      <td>250</td>\n",
       "      <td>3</td>\n",
       "      <td>67</td>\n",
       "      <td>680</td>\n",
       "      <td>20</td>\n",
       "      <td>55</td>\n",
       "      <td>20</td>\n",
       "      <td>5</td>\n",
       "      <td>No</td>\n",
       "      <td>No</td>\n",
       "    </tr>\n",
       "    <tr>\n",
       "      <th>18</th>\n",
       "      <td>Telluride</td>\n",
       "      <td>4,425'</td>\n",
       "      <td>309</td>\n",
       "      <td>18</td>\n",
       "      <td>127</td>\n",
       "      <td>2,000</td>\n",
       "      <td>23</td>\n",
       "      <td>36</td>\n",
       "      <td>41</td>\n",
       "      <td>None</td>\n",
       "      <td>Yes</td>\n",
       "      <td>Yes</td>\n",
       "    </tr>\n",
       "    <tr>\n",
       "      <th>19</th>\n",
       "      <td>Winter Park</td>\n",
       "      <td>3,060'</td>\n",
       "      <td>348</td>\n",
       "      <td>25</td>\n",
       "      <td>143</td>\n",
       "      <td>3,081</td>\n",
       "      <td>8</td>\n",
       "      <td>37</td>\n",
       "      <td>52</td>\n",
       "      <td>3</td>\n",
       "      <td>Yes</td>\n",
       "      <td>Yes</td>\n",
       "    </tr>\n",
       "    <tr>\n",
       "      <th>20</th>\n",
       "      <td>Wolf Creek</td>\n",
       "      <td>1,604'</td>\n",
       "      <td>430</td>\n",
       "      <td>9</td>\n",
       "      <td>77</td>\n",
       "      <td>1,600</td>\n",
       "      <td>20</td>\n",
       "      <td>35</td>\n",
       "      <td>25</td>\n",
       "      <td>20</td>\n",
       "      <td>Yes</td>\n",
       "      <td>Yes</td>\n",
       "    </tr>\n",
       "  </tbody>\n",
       "</table>\n",
       "</div>"
      ],
      "text/plain": [
       "              Resort Vertical Rise 10 Year Snowfall Avg. Lifts Trails  \\\n",
       "0     Arapahoe Basin        2,270'                  350\"     8    109   \n",
       "1    Aspen Highlands        4,352'                   300     5    122   \n",
       "2     Aspen Mountain        3,267'                   300     8     76   \n",
       "3         Buttermilk        2,030'                   200     8     44   \n",
       "4    Copper Mountain        2,601'                   304    23    140   \n",
       "5      Crested Butte        3,062'                   300    15    121   \n",
       "6             Eldora        1,600'                   300    11     53   \n",
       "7           Howelsen          440'                   150     4     17   \n",
       "8           Loveland        2,210'                   422    10     93   \n",
       "9            Monarch        1,162'                   350     8     54   \n",
       "10        Powderhorn        1,650'                   250     5     63   \n",
       "11  Purgatory at DMR        2,029'                   260    11     92   \n",
       "12         Silverton        3,087'                   400     1     69   \n",
       "13            Cooper        1,200'                   250     4     26   \n",
       "14          Snowmass        4,406'                   300    20     94   \n",
       "15      Granby Ranch        1,000'                   220     6     38   \n",
       "16         Steamboat        3,668'                   349    16    165   \n",
       "17          Sunlight        2,010'                   250     3     67   \n",
       "18         Telluride        4,425'                   309    18    127   \n",
       "19       Winter Park        3,060'                   348    25    143   \n",
       "20        Wolf Creek        1,604'                   430     9     77   \n",
       "\n",
       "   Skiable Acres % Terrain Greens % Terrain Blues % Terrain Blacks  \\\n",
       "0            960               10              30               37   \n",
       "1          1,040               18              30               16   \n",
       "2            675                0              48               26   \n",
       "3            470               35              39               21   \n",
       "4          2,465               21              25               36   \n",
       "5          1,547               21              57               16   \n",
       "6            680               20              50               15   \n",
       "7             50               25              20               55   \n",
       "8          1,800               13              41               22   \n",
       "9            800               26              31               43   \n",
       "10         1,600               20              50               30   \n",
       "11         1,525               20              45               35   \n",
       "12         1,819                0               0                0   \n",
       "13           400               30              40               30   \n",
       "14         3,332                5              48               17   \n",
       "15           406               34              34               32   \n",
       "16         2,965               14              42               44   \n",
       "17           680               20              55               20   \n",
       "18         2,000               23              36               41   \n",
       "19         3,081                8              37               52   \n",
       "20         1,600               20              35               25   \n",
       "\n",
       "   % Terrain Double Blacks Bowl Skiing Cat/Heli Skiing  \n",
       "0                       23         Yes              No  \n",
       "1                       36         Yes             Yes  \n",
       "2                       26         Yes             Yes  \n",
       "3                        5          No              No  \n",
       "4                       18         Yes             Yes  \n",
       "5                     None         Yes             Yes  \n",
       "6                       15         Yes              No  \n",
       "7                        0          No              No  \n",
       "8                       24         Yes             Yes  \n",
       "9                     None         Yes             Yes  \n",
       "10                    None          No              No  \n",
       "11                    None          No             Yes  \n",
       "12                     100         Yes             Yes  \n",
       "13                    None         Yes             Yes  \n",
       "14                      30         Yes              No  \n",
       "15                    None          No              No  \n",
       "16                    None         Yes             Yes  \n",
       "17                       5          No              No  \n",
       "18                    None         Yes             Yes  \n",
       "19                       3         Yes             Yes  \n",
       "20                      20         Yes             Yes  "
      ]
     },
     "execution_count": 71,
     "metadata": {},
     "output_type": "execute_result"
    }
   ],
   "source": [
    "mf"
   ]
  },
  {
   "cell_type": "code",
   "execution_count": null,
   "metadata": {
    "collapsed": true
   },
   "outputs": [],
   "source": []
  }
 ],
 "metadata": {
  "anaconda-cloud": {},
  "kernelspec": {
   "display_name": "Python [Root]",
   "language": "python",
   "name": "Python [Root]"
  },
  "language_info": {
   "codemirror_mode": {
    "name": "ipython",
    "version": 2
   },
   "file_extension": ".py",
   "mimetype": "text/x-python",
   "name": "python",
   "nbconvert_exporter": "python",
   "pygments_lexer": "ipython2",
   "version": "2.7.12"
  }
 },
 "nbformat": 4,
 "nbformat_minor": 0
}
